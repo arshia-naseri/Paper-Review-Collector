{
 "cells": [
  {
   "cell_type": "code",
   "execution_count": 5,
   "id": "eb1b29a2",
   "metadata": {},
   "outputs": [],
   "source": [
    "import pandas as pd\n",
    "import openreview\n",
    "import json\n",
    "import openreview.api as openreview_api\n",
    "import shutil\n",
    "\n",
    "from collections import OrderedDict\n",
    "from typing import Any, Callable, Iterable, List, Dict, Optional\n",
    "import openreview.api as openreview_api"
   ]
  },
  {
   "cell_type": "code",
   "execution_count": 6,
   "id": "b75e0535",
   "metadata": {},
   "outputs": [],
   "source": [
    "def convert_2_json(item):\n",
    "    if hasattr(item, \"to_json\"):\n",
    "        payload = dict(item.to_json())\n",
    "        if getattr(item, \"details\", None) is not None:\n",
    "            payload[\"details\"] = item.details\n",
    "        return payload\n",
    "    if isinstance(item, list):\n",
    "        return [convert_2_json(x) for x in item]\n",
    "    if isinstance(item, dict):\n",
    "        return {k: convert_2_json(v) for k, v in item.items()}\n",
    "    return item"
   ]
  },
  {
   "cell_type": "code",
   "execution_count": 7,
   "id": "f0b462c7",
   "metadata": {},
   "outputs": [],
   "source": [
    "def save_json(data: Any, file_name: str, convert: bool = True) -> None:\n",
    "    serializable = convert_2_json(data) if convert else data\n",
    "    with open(f\"{file_name}.json\", \"w\") as fh:\n",
    "        json.dump(serializable, fh, indent=4)\n"
   ]
  },
  {
   "cell_type": "code",
   "execution_count": null,
   "id": "622fa3b8",
   "metadata": {},
   "outputs": [],
   "source": [
    "# client = openreview.Client(baseurl=\"https://api.openreview.net\")\n",
    "client = openreview_api.OpenReviewClient(baseurl=\"https://api2.openreview.net\")\n",
    "# groups = client.get_groups(id=\"ICLR.cc/2021\")\n",
    "groups = client.get_all_groups(id=\"NeurIPS.cc/2023/Conference\")\n",
    "print(len(groups))\n",
    "print(groups[0])\n",
    "save_json(groups[0],\"ggggg\")"
   ]
  },
  {
   "cell_type": "code",
   "execution_count": null,
   "id": "2155cb4f",
   "metadata": {},
   "outputs": [
    {
     "name": "stderr",
     "output_type": "stream",
     "text": [
      "Getting V2 Notes: 100%|█████████▉| 5533/5539 [00:13<00:00, 422.22it/s]"
     ]
    },
    {
     "name": "stdout",
     "output_type": "stream",
     "text": [
      "5539\n"
     ]
    },
    {
     "name": "stderr",
     "output_type": "stream",
     "text": [
      "\n"
     ]
    }
   ],
   "source": [
    "invitation_url = 'ICLR.cc/2024/Conference/-/Submission'\n",
    "# API 2\n",
    "client = openreview_api.OpenReviewClient(baseurl=\"https://api2.openreview.net\")\n",
    "notes = client.get_all_notes(invitation = invitation_url, details=\"directReplies,revisions\")\n",
    "if len(notes) == 0:\n",
    "    # API 1\n",
    "    client = openreview.Client(baseurl=\"https://api.openreview.net\")\n",
    "    notes = client.get_all_notes(invitation = invitation_url, details=\"directReplies,revisions\")\n",
    "\n",
    "print(len(notes))\n",
    "save_json(notes[50],\"skandfsajn\")\n",
    "# save_json(notes[50],\"../raw out/NeurIPS_2025_paper_50_raw\")"
   ]
  },
  {
   "cell_type": "code",
   "execution_count": null,
   "id": "bc61bb0c",
   "metadata": {},
   "outputs": [],
   "source": [
    "\n",
    "\n",
    "papers = convert_2_json(notes)\n",
    "venue = \"iclr_2024\"\n",
    "index = 200\n",
    "\n",
    "# # iclr 2024\n",
    "if venue in [\"iclr_2024\",\"iclr_2025\",\"neurips_2023\",\"neurips_2024\",\"neurips_2025\"]:\n",
    "    new_paper = getAttr(papers[index], id = \"id\" , \n",
    "                    title = \"content:title:value\", pdf_url = \"content:pdf:value\", has_revisions= \"details:revisions\",\n",
    "                    authors = \"content:authors:value\", created_date = \"cdate\", original_paper_id = \"original\", \n",
    "                    reviews = \"details:directReplies\", invitation = \"invitations\"\n",
    "                    )\n",
    "else:\n",
    "    new_paper = getAttr(papers[index], id = \"id\" , \n",
    "                    title = \"content:title\" , pdf_url = \"content:pdf\", has_revisions= \"details:revisions\", \n",
    "                    authors = \"content:authors\", created_date = \"cdate\" , original_paper_id = \"original\",\n",
    "                    reviews = \"details:directReplies\", invitation = \"invitation\"\n",
    "                    )\n",
    "\n",
    "\n",
    "new_paper = paperCleaner(new_paper,venue)\n",
    "save_json(new_paper,\"new_paper\")"
   ]
  },
  {
   "cell_type": "code",
   "execution_count": null,
   "id": "25342f9d",
   "metadata": {},
   "outputs": [],
   "source": [
    "def get_pdf_markdown():\n",
    "    ''' \n",
    "        !!! This is a SAFTEY return, DO NOT Run this function\n",
    "        I REPEAT, DO NOT run this function on local \n",
    "    '''\n",
    "    return \n",
    "    from markitdown import MarkItDown\n",
    "    from io import BytesIO\n",
    "    import requests\n",
    "\n",
    "    pdf_url = new_paper.get(\"pdf_url\")\n",
    "    if not(pdf_url): return\n",
    "    response = requests.get()\n",
    "    pdf_bytes = response.content\n",
    "\n",
    "    md = MarkItDown()\n",
    "\n",
    "    result = md.convert(BytesIO(pdf_bytes), mime=\"application/pdf\")\n",
    "\n",
    "    new_paper[\"pdf\"] = result.text_content\n",
    "    save_json(new_paper,\"new_paper\")"
   ]
  },
  {
   "cell_type": "code",
   "execution_count": 3,
   "id": "7f3a5689",
   "metadata": {},
   "outputs": [],
   "source": [
    "import os\n",
    "\n",
    "def print_results(directory_path):\n",
    "    # Check if directory exists\n",
    "    if not os.path.isdir(directory_path):\n",
    "        print(f\"Error: '{directory_path}' is not a valid directory.\")\n",
    "        return\n",
    "\n",
    "    for filename in os.listdir(directory_path):\n",
    "        file_path = os.path.join(directory_path, filename)\n",
    "        \n",
    "        # Skip folders; only print files\n",
    "        if os.path.isfile(file_path):\n",
    "            size_bytes = os.path.getsize(file_path)\n",
    "\n",
    "            # Convert to human-readable units\n",
    "            if size_bytes < 1024:\n",
    "                readable = f\"{size_bytes} B\"\n",
    "            elif size_bytes < (1024 ** 2):\n",
    "                readable = f\"{size_bytes / 1024:.2f} KB\"\n",
    "            elif size_bytes < (1024 ** 3):\n",
    "                readable = f\"{size_bytes / (1024 ** 2):.2f} MB\"\n",
    "            else:\n",
    "                readable = f\"{size_bytes / (1024 ** 3):.2f} GB\"\n",
    "\n",
    "            print(f\"{filename} — {readable}\")"
   ]
  },
  {
   "cell_type": "code",
   "execution_count": 8,
   "id": "1ed4caf1",
   "metadata": {},
   "outputs": [],
   "source": [
    "def getAttr(paper,**attrs:str):\n",
    "    def go_deep(node,paths):\n",
    "        if not(node): return node\n",
    "        if len(paths) == 1:\n",
    "            return node.get(paths[0])\n",
    "        return go_deep(node.get(paths[0]), paths[1:])\n",
    "\n",
    "    results = {}\n",
    "    for key, values in attrs.items():\n",
    "        paths = values.split(\":\")\n",
    "        results[key] = go_deep(paper, paths)\n",
    "    return results\n",
    "\n",
    "def paperCleaner(paper, specialCase = '',doCleanString = True):\n",
    "    # Since some might have style in text \n",
    "    def cleanString(s):\n",
    "        return ''.join(c for c in s if c.isascii() and c != '\\n')\n",
    "\n",
    "    cp_paper = paper.copy()\n",
    "\n",
    "    # Reviews\n",
    "    reviews = []\n",
    "    decision = None\n",
    "    for reviewItem in paper.get(\"reviews\"):\n",
    "        ''' \n",
    "            Some have \"invitations\" and others have \"invitation\" \n",
    "            ==> make everything \"invitation\" for easier conditions\n",
    "        '''\n",
    "        puralVal = reviewItem.get(\"invitations\")\n",
    "        if puralVal: reviewItem[\"invitation\"] = puralVal\n",
    "\n",
    "        # Decisions\n",
    "        if not decision:\n",
    "            if specialCase == \"iclr_2019\":\n",
    "                decision = getAttr(reviewItem, decision = \"content:recommendation\")[\"decision\"]\n",
    "            elif specialCase in [\"iclr_2024\", \"iclr_2025\", \"neurips_2023\", \"neurips_2024\", \"neurips_2025\"]:\n",
    "                decision = getAttr(reviewItem, decision = \"content:decision:value\")[\"decision\"]\n",
    "            else:      \n",
    "                decision = getAttr(reviewItem, decision = \"content:decision\")[\"decision\"]\n",
    "        \n",
    "        # Reviews\n",
    "        if specialCase in [\"iclr_2024\", \"iclr_2025\", \"neurips_2023\", \"neurips_2024\", \"neurips_2025\"]:\n",
    "            if \"meta\" in \",\".join(i.lower() for i in reviewItem[\"invitation\"]):\n",
    "                continue\n",
    "            if \"review\" in \",\".join(i.lower() for i in reviewItem[\"invitation\"]):\n",
    "                \n",
    "                result = \"\\n\".join(\n",
    "                (\n",
    "                    # v is a list of objects\n",
    "                    f\"{k}:{cleanString(','.join(str(item['value']) for item in v))}\"\n",
    "                    if (doCleanString and isinstance(v, list))\n",
    "                    else f\"{k}:{', '.join(str(item['value']) for item in v)}\"\n",
    "                ) if isinstance(v, list)\n",
    "                else (\n",
    "                    # v is a single object\n",
    "                    f\"{k}:{cleanString(str(v['value']))}\"\n",
    "                    if doCleanString\n",
    "                    else f\"{k}:{str(v['value'])}\"\n",
    "                )\n",
    "                for k, v in reviewItem[\"content\"].items())\n",
    "                \n",
    "                date = reviewItem[\"cdate\"] if reviewItem.get(\"cdate\") else reviewItem.get(\"tcdate\")\n",
    "                reviewObj = {\"date\": date,\"review\": result}\n",
    "                reviews.append(reviewObj)\n",
    "\n",
    "        elif \"review\" in reviewItem[\"invitation\"].lower():\n",
    "            if specialCase in [\"iclr_2019\",\"neurips_2022\"] and (\"meta\" in reviewItem[\"invitation\"].lower()):\n",
    "                continue\n",
    "            result = \"\\n\".join(\n",
    "                f\"{k}:{cleanString(','.join(v)) if (doCleanString and isinstance(v, list)) else cleanString(v) if doCleanString else v}\"\n",
    "                for k, v in reviewItem[\"content\"].items()\n",
    "            )\n",
    "\n",
    "            date = reviewItem[\"cdate\"] if reviewItem.get(\"cdate\") else reviewItem.get(\"tcdate\")\n",
    "            reviewObj = {\"date\": date,\"review\": result}\n",
    "            reviews.append(reviewObj)\n",
    "        \n",
    "    del cp_paper[\"reviews\"]\n",
    "\n",
    "    cp_paper[\"reviews\"] = reviews\n",
    "    cp_paper[\"decision\"] = decision\n",
    "    cp_paper[\"has_revisions\"] = True if cp_paper[\"original_paper_id\"] else False\n",
    "    if cp_paper.get(\"pdf_url\"):\n",
    "        cp_paper[\"pdf_url\"] = \"https://openreview.net\" + cp_paper[\"pdf_url\"]\n",
    "    else:\n",
    "        cp_paper[\"pdf_url\"] = None\n",
    "    return cp_paper"
   ]
  },
  {
   "cell_type": "code",
   "execution_count": null,
   "id": "bd8fa454",
   "metadata": {},
   "outputs": [
    {
     "name": "stdout",
     "output_type": "stream",
     "text": [
      "> Retriving papers from venue ICLR year 2016\n",
      "> Retriving papers from venue ICLR year 2017\n",
      "> Retriving papers from venue ICLR year 2018\n",
      "> Retriving papers from venue ICLR year 2019\n"
     ]
    },
    {
     "name": "stderr",
     "output_type": "stream",
     "text": [
      "Getting V1 Notes: 100%|█████████▉| 1417/1419 [00:00<00:00, 2149.92it/s]\n"
     ]
    },
    {
     "name": "stdout",
     "output_type": "stream",
     "text": [
      "> Retriving papers from venue ICLR year 2020\n"
     ]
    },
    {
     "name": "stderr",
     "output_type": "stream",
     "text": [
      "Getting V1 Notes: 100%|█████████▉| 2210/2213 [00:01<00:00, 1256.28it/s]\n"
     ]
    },
    {
     "name": "stdout",
     "output_type": "stream",
     "text": [
      "> Retriving papers from venue ICLR year 2021\n"
     ]
    },
    {
     "name": "stderr",
     "output_type": "stream",
     "text": [
      "Getting V1 Notes: 100%|█████████▉| 2591/2594 [00:03<00:00, 832.01it/s]\n"
     ]
    },
    {
     "name": "stdout",
     "output_type": "stream",
     "text": [
      "> Retriving papers from venue ICLR year 2022\n"
     ]
    },
    {
     "name": "stderr",
     "output_type": "stream",
     "text": [
      "Getting V1 Notes: 100%|█████████▉| 2614/2617 [00:03<00:00, 686.49it/s]\n"
     ]
    },
    {
     "name": "stdout",
     "output_type": "stream",
     "text": [
      "> Retriving papers from venue ICLR year 2023\n"
     ]
    },
    {
     "name": "stderr",
     "output_type": "stream",
     "text": [
      "Getting V1 Notes: 100%|█████████▉| 3789/3793 [00:05<00:00, 667.14it/s]\n"
     ]
    },
    {
     "name": "stdout",
     "output_type": "stream",
     "text": [
      "> Retriving papers from venue ICLR year 2024\n"
     ]
    },
    {
     "name": "stderr",
     "output_type": "stream",
     "text": [
      "Getting V2 Notes: 100%|█████████▉| 7396/7404 [00:13<00:00, 554.27it/s]\n"
     ]
    },
    {
     "name": "stdout",
     "output_type": "stream",
     "text": [
      "> Retriving papers from venue ICLR year 2025\n"
     ]
    },
    {
     "name": "stderr",
     "output_type": "stream",
     "text": [
      "Getting V2 Notes: 100%|█████████▉| 11660/11672 [00:23<00:00, 500.43it/s]\n"
     ]
    },
    {
     "name": "stdout",
     "output_type": "stream",
     "text": [
      "> Retriving papers from venue NEURIPS year 2019\n",
      "> Retriving papers from venue NEURIPS year 2021\n"
     ]
    },
    {
     "name": "stderr",
     "output_type": "stream",
     "text": [
      "Getting V1 Notes: 100%|█████████▉| 2765/2768 [00:03<00:00, 757.71it/s]\n"
     ]
    },
    {
     "name": "stdout",
     "output_type": "stream",
     "text": [
      "> Retriving papers from venue NEURIPS year 2022\n"
     ]
    },
    {
     "name": "stderr",
     "output_type": "stream",
     "text": [
      "Getting V1 Notes: 100%|█████████▉| 2821/2824 [00:03<00:00, 712.97it/s]\n"
     ]
    },
    {
     "name": "stdout",
     "output_type": "stream",
     "text": [
      "> Retriving papers from venue NEURIPS year 2023\n"
     ]
    },
    {
     "name": "stderr",
     "output_type": "stream",
     "text": [
      "Getting V2 Notes: 100%|█████████▉| 3391/3395 [00:07<00:00, 450.84it/s]\n"
     ]
    },
    {
     "name": "stdout",
     "output_type": "stream",
     "text": [
      "> Retriving papers from venue NEURIPS year 2024\n"
     ]
    },
    {
     "name": "stderr",
     "output_type": "stream",
     "text": [
      "Getting V2 Notes: 100%|█████████▉| 4231/4236 [00:07<00:00, 599.57it/s]\n"
     ]
    },
    {
     "name": "stdout",
     "output_type": "stream",
     "text": [
      "> Retriving papers from venue NEURIPS year 2025\n"
     ]
    },
    {
     "name": "stderr",
     "output_type": "stream",
     "text": [
      "Getting V2 Notes: 100%|█████████▉| 5533/5539 [00:11<00:00, 485.90it/s]\n"
     ]
    },
    {
     "name": "stdout",
     "output_type": "stream",
     "text": [
      "All Job Done \n",
      "=========== File Sizes Generated =========\n",
      "NEURIPS_2025.jsonl — 80.99 MB\n",
      "ICLR_2024.jsonl — 91.48 MB\n",
      "ICLR_2019.jsonl — 12.07 MB\n",
      "ICLR_2020.jsonl — 20.45 MB\n",
      "NEURIPS_2023.jsonl — 52.86 MB\n",
      "ICLR_2022.jsonl — 39.81 MB\n",
      "NEURIPS_2021.jsonl — 39.64 MB\n",
      "ICLR_2018.jsonl — 7.24 MB\n",
      "ICLR_2025.jsonl — 149.20 MB\n",
      "NEURIPS_2024.jsonl — 49.90 MB\n",
      "NEURIPS_2019.jsonl — 683.81 KB\n",
      "ICLR_2023.jsonl — 54.62 MB\n",
      "NEURIPS_2022.jsonl — 36.17 MB\n",
      "ICLR_2021.jsonl — 32.09 MB\n",
      "ICLR_2016.jsonl — 353.92 KB\n",
      "ICLR_2017.jsonl — 3.84 MB\n"
     ]
    }
   ],
   "source": [
    "venue_invitations_url = {\n",
    "  'iclr_2016': 'ICLR.cc/2016/workshop/-/submission',\n",
    "  'iclr_2017': 'ICLR.cc/2017/conference/-/submission',\n",
    "  'iclr_2018': 'ICLR.cc/2018/Conference/-/Blind_Submission',\n",
    "  'iclr_2019': 'ICLR.cc/2019/Conference/-/Blind_Submission',\n",
    "  'iclr_2020': 'ICLR.cc/2020/Conference/-/Blind_Submission',\n",
    "  'iclr_2021': 'ICLR.cc/2021/Conference/-/Blind_Submission',\n",
    "  'iclr_2022': 'ICLR.cc/2022/Conference/-/Blind_Submission',\n",
    "  'iclr_2023': 'ICLR.cc/2023/Conference/-/Blind_Submission',\n",
    "  'iclr_2024': 'ICLR.cc/2024/Conference/-/Submission',\n",
    "  'iclr_2025': 'ICLR.cc/2025/Conference/-/Submission',\n",
    "  'neurips_2019': 'NeurIPS.cc/2019/Reproducibility_Challenge/-/Blind_Report',\n",
    "  'neurips_2021': 'NeurIPS.cc/2021/Conference/-/Blind_Submission',\n",
    "  'neurips_2022': 'NeurIPS.cc/2022/Conference/-/Blind_Submission',\n",
    "  'neurips_2023': 'NeurIPS.cc/2023/Conference/-/Submission',\n",
    "  'neurips_2024': 'NeurIPS.cc/2024/Conference/-/Submission',\n",
    "  'neurips_2025': 'NeurIPS.cc/2025/Conference/-/Submission'\n",
    "}\n",
    "\n",
    "\n",
    "if os.path.exists(\"out\") and os.path.isdir(\"out\"):\n",
    "    shutil.rmtree(\"out\")\n",
    "os.makedirs(\"out\")  \n",
    "  \n",
    "for venueName, invite_url in venue_invitations_url.items():\n",
    "    [venue_name , venue_year] = venueName.split(\"_\")\n",
    "    print(f\"> Retriving papers from venue {venue_name.upper()} year {venue_year}\")\n",
    "    # API 2\n",
    "    client = openreview_api.OpenReviewClient(baseurl=\"https://api2.openreview.net\")\n",
    "    notes = client.get_all_notes(invitation = invite_url, details=\"directReplies,revisions\")\n",
    "    if len(notes) == 0:\n",
    "        # API 1\n",
    "        client = openreview.Client(baseurl=\"https://api.openreview.net\")\n",
    "        notes = client.get_all_notes(invitation = invite_url, details=\"directReplies,revisions\")\n",
    "    save_json(notes[50],\"skandfsajn\")\n",
    "    papers = convert_2_json(notes)\n",
    "\n",
    "    with open(f\"out/{venueName.upper()}.jsonl\",\"w\") as f:\n",
    "      for paper in papers:\n",
    "          if venueName in [\"iclr_2024\",\"iclr_2025\",\"neurips_2023\",\"neurips_2024\",\"neurips_2025\"]:\n",
    "            new_paper = getAttr(paper, id = \"id\" , \n",
    "                                title = \"content:title:value\", pdf_url = \"content:pdf:value\", has_revisions= \"details:revisions\",\n",
    "                                authors = \"content:authors:value\", created_date = \"cdate\", original_paper_id = \"original\", \n",
    "                                reviews = \"details:directReplies\", invitation = \"invitations\"\n",
    "                                )\n",
    "          else:\n",
    "            new_paper = getAttr(paper, id = \"id\" , \n",
    "                                title = \"content:title\" , pdf_url = \"content:pdf\", has_revisions= \"details:revisions\", \n",
    "                                authors = \"content:authors\", created_date = \"cdate\" , original_paper_id = \"original\",\n",
    "                                reviews = \"details:directReplies\", invitation = \"invitation\"\n",
    "                                )\n",
    "\n",
    "          new_paper = paperCleaner(new_paper,venueName)\n",
    "          f.write(json.dumps(new_paper) + \"\\n\")\n",
    "print(\"---------------------\")\n",
    "print(\"\\n✓ All Jobs Done ✓\")\n",
    "print(\"=========== File Sizes Generated =========\")\n",
    "print_results(\"out\")"
   ]
  }
 ],
 "metadata": {
  "kernelspec": {
   "display_name": "venv (3.13.9)",
   "language": "python",
   "name": "python3"
  },
  "language_info": {
   "codemirror_mode": {
    "name": "ipython",
    "version": 3
   },
   "file_extension": ".py",
   "mimetype": "text/x-python",
   "name": "python",
   "nbconvert_exporter": "python",
   "pygments_lexer": "ipython3",
   "version": "3.13.9"
  }
 },
 "nbformat": 4,
 "nbformat_minor": 5
}
