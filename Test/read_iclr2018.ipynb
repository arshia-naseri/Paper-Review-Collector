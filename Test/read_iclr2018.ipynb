{
 "cells": [
  {
   "cell_type": "code",
   "execution_count": 47,
   "id": "31c84427",
   "metadata": {},
   "outputs": [],
   "source": [
    "import pandas as pd\n",
    "import openreview\n",
    "import json\n",
    "\n",
    "from collections import OrderedDict\n",
    "from typing import Any, Callable, Iterable, List, Dict, Optional"
   ]
  },
  {
   "cell_type": "code",
   "execution_count": 48,
   "id": "06cc4fb5",
   "metadata": {},
   "outputs": [],
   "source": [
    "def save_json(data,fileName,convert = True):\n",
    "    with open(f\"{fileName}.json\",\"w\") as file:\n",
    "        data_converted = data.to_json() if convert else data\n",
    "        json.dump(data_converted,file,indent=4)"
   ]
  },
  {
   "cell_type": "code",
   "execution_count": 38,
   "id": "4ab9b07c",
   "metadata": {},
   "outputs": [
    {
     "ename": "OpenReviewException",
     "evalue": "{'name': 'ValidationError', 'message': 'request requires at least one of id, ids, invitation, replyForum, replyInvitation, invitee, edit.note.forum, edit.invitation.id, edit.group.id, message.groups.param.inGroup, tag.forum, tag.note as parameter (2025-10-25-6278303)', 'status': 400, 'details': {'path': 'request', 'reqId': '2025-10-25-6278303'}}",
     "output_type": "error",
     "traceback": [
      "\u001b[31m---------------------------------------------------------------------------\u001b[39m",
      "\u001b[31mHTTPError\u001b[39m                                 Traceback (most recent call last)",
      "\u001b[36mFile \u001b[39m\u001b[32m~/Desktop/Lab/paper-review-collector/venv/lib/python3.13/site-packages/openreview/api/client.py:149\u001b[39m, in \u001b[36mOpenReviewClient.__handle_response\u001b[39m\u001b[34m(self, response)\u001b[39m\n\u001b[32m    148\u001b[39m \u001b[38;5;28;01mtry\u001b[39;00m:\n\u001b[32m--> \u001b[39m\u001b[32m149\u001b[39m     \u001b[43mresponse\u001b[49m\u001b[43m.\u001b[49m\u001b[43mraise_for_status\u001b[49m\u001b[43m(\u001b[49m\u001b[43m)\u001b[49m\n\u001b[32m    150\u001b[39m     \u001b[38;5;28;01mreturn\u001b[39;00m response\n",
      "\u001b[36mFile \u001b[39m\u001b[32m~/Desktop/Lab/paper-review-collector/venv/lib/python3.13/site-packages/requests/models.py:1026\u001b[39m, in \u001b[36mResponse.raise_for_status\u001b[39m\u001b[34m(self)\u001b[39m\n\u001b[32m   1025\u001b[39m \u001b[38;5;28;01mif\u001b[39;00m http_error_msg:\n\u001b[32m-> \u001b[39m\u001b[32m1026\u001b[39m     \u001b[38;5;28;01mraise\u001b[39;00m HTTPError(http_error_msg, response=\u001b[38;5;28mself\u001b[39m)\n",
      "\u001b[31mHTTPError\u001b[39m: 400 Client Error: Bad Request for url: https://api2.openreview.net/invitations?prefix=ICLR.cc%2F2018%2FConference&limit=1000&sort=id&count=true",
      "\nDuring handling of the above exception, another exception occurred:\n",
      "\u001b[31mOpenReviewException\u001b[39m                       Traceback (most recent call last)",
      "\u001b[36mCell\u001b[39m\u001b[36m \u001b[39m\u001b[32mIn[38]\u001b[39m\u001b[32m, line 4\u001b[39m\n\u001b[32m      1\u001b[39m \u001b[38;5;28;01mimport\u001b[39;00m\u001b[38;5;250m \u001b[39m\u001b[34;01mopenreview\u001b[39;00m\u001b[34;01m.\u001b[39;00m\u001b[34;01mapi\u001b[39;00m\u001b[38;5;250m \u001b[39m\u001b[38;5;28;01mas\u001b[39;00m\u001b[38;5;250m \u001b[39m\u001b[34;01mopenreview_api\u001b[39;00m\n\u001b[32m      3\u001b[39m v2_cl  = openreview_api.OpenReviewClient(\u001b[33m\"\u001b[39m\u001b[33mhttps://api2.openreview.net\u001b[39m\u001b[33m\"\u001b[39m)\n\u001b[32m----> \u001b[39m\u001b[32m4\u001b[39m invitations = \u001b[43mv2_cl\u001b[49m\u001b[43m.\u001b[49m\u001b[43mget_all_invitations\u001b[49m\u001b[43m(\u001b[49m\u001b[43mprefix\u001b[49m\u001b[43m=\u001b[49m\u001b[33;43m'\u001b[39;49m\u001b[33;43mICLR.cc/2018/Conference\u001b[39;49m\u001b[33;43m'\u001b[39;49m\u001b[43m)\u001b[49m\n\u001b[32m      6\u001b[39m \u001b[38;5;28mprint\u001b[39m([inv.id \u001b[38;5;28;01mfor\u001b[39;00m inv \u001b[38;5;129;01min\u001b[39;00m invitations])\n\u001b[32m      8\u001b[39m submit_2 = v2_cl.get_all_notes(\n\u001b[32m      9\u001b[39m     invitation=\u001b[33m'\u001b[39m\u001b[33mICLR.cc/2018/Conference/-/Blind_Submission\u001b[39m\u001b[33m'\u001b[39m,\n\u001b[32m     10\u001b[39m     details=\u001b[33m'\u001b[39m\u001b[33mdirectReplies\u001b[39m\u001b[33m'\u001b[39m\n\u001b[32m     11\u001b[39m ) \n",
      "\u001b[36mFile \u001b[39m\u001b[32m~/Desktop/Lab/paper-review-collector/venv/lib/python3.13/site-packages/openreview/api/client.py:1251\u001b[39m, in \u001b[36mOpenReviewClient.get_all_invitations\u001b[39m\u001b[34m(self, id, ids, invitee, replytoNote, replyForum, signature, note, prefix, tags, minduedate, duedate, pastdue, replyto, details, expired, sort, type, with_count, invitation, trash)\u001b[39m\n\u001b[32m   1248\u001b[39m \u001b[38;5;28;01mif\u001b[39;00m trash \u001b[38;5;129;01mis\u001b[39;00m \u001b[38;5;129;01mnot\u001b[39;00m \u001b[38;5;28;01mNone\u001b[39;00m:\n\u001b[32m   1249\u001b[39m     params[\u001b[33m'\u001b[39m\u001b[33mtrash\u001b[39m\u001b[33m'\u001b[39m] = trash\n\u001b[32m-> \u001b[39m\u001b[32m1251\u001b[39m \u001b[38;5;28;01mreturn\u001b[39;00m \u001b[38;5;28mlist\u001b[39m(\u001b[43mtools\u001b[49m\u001b[43m.\u001b[49m\u001b[43mefficient_iterget\u001b[49m\u001b[43m(\u001b[49m\u001b[38;5;28;43mself\u001b[39;49m\u001b[43m.\u001b[49m\u001b[43mget_invitations\u001b[49m\u001b[43m,\u001b[49m\u001b[43m \u001b[49m\u001b[43mdesc\u001b[49m\u001b[43m=\u001b[49m\u001b[33;43m'\u001b[39;49m\u001b[33;43mGetting V2 Invitations\u001b[39;49m\u001b[33;43m'\u001b[39;49m\u001b[43m,\u001b[49m\u001b[43m \u001b[49m\u001b[43m*\u001b[49m\u001b[43m*\u001b[49m\u001b[43mparams\u001b[49m\u001b[43m)\u001b[49m)\n",
      "\u001b[36mFile \u001b[39m\u001b[32m~/Desktop/Lab/paper-review-collector/venv/lib/python3.13/site-packages/openreview/tools.py:848\u001b[39m, in \u001b[36mefficient_iterget.__init__\u001b[39m\u001b[34m(self, get_function, desc, **params)\u001b[39m\n\u001b[32m    841\u001b[39m \u001b[38;5;28mself\u001b[39m.params.update({\n\u001b[32m    842\u001b[39m     \u001b[33m'\u001b[39m\u001b[33mwith_count\u001b[39m\u001b[33m'\u001b[39m: \u001b[38;5;28;01mTrue\u001b[39;00m,\n\u001b[32m    843\u001b[39m     \u001b[33m'\u001b[39m\u001b[33msort\u001b[39m\u001b[33m'\u001b[39m: params.get(\u001b[33m'\u001b[39m\u001b[33msort\u001b[39m\u001b[33m'\u001b[39m) \u001b[38;5;129;01mor\u001b[39;00m \u001b[33m'\u001b[39m\u001b[33mid\u001b[39m\u001b[33m'\u001b[39m,\n\u001b[32m    844\u001b[39m     \u001b[33m'\u001b[39m\u001b[33mlimit\u001b[39m\u001b[33m'\u001b[39m: params.get(\u001b[33m'\u001b[39m\u001b[33mlimit\u001b[39m\u001b[33m'\u001b[39m) \u001b[38;5;129;01mor\u001b[39;00m \u001b[32m1000\u001b[39m\n\u001b[32m    845\u001b[39m })\n\u001b[32m    847\u001b[39m \u001b[38;5;28mself\u001b[39m.get_function = get_function\n\u001b[32m--> \u001b[39m\u001b[32m848\u001b[39m \u001b[38;5;28mself\u001b[39m.current_batch, total = \u001b[38;5;28;43mself\u001b[39;49m\u001b[43m.\u001b[49m\u001b[43mget_function\u001b[49m\u001b[43m(\u001b[49m\u001b[43m*\u001b[49m\u001b[43m*\u001b[49m\u001b[38;5;28;43mself\u001b[39;49m\u001b[43m.\u001b[49m\u001b[43mparams\u001b[49m\u001b[43m)\u001b[49m\n\u001b[32m    850\u001b[39m \u001b[38;5;28mself\u001b[39m.gathering_responses = tqdm(total=total, desc=desc) \u001b[38;5;28;01mif\u001b[39;00m total > \u001b[38;5;28mself\u001b[39m.params[\u001b[33m'\u001b[39m\u001b[33mlimit\u001b[39m\u001b[33m'\u001b[39m] \u001b[38;5;28;01melse\u001b[39;00m \u001b[38;5;28;01mNone\u001b[39;00m\n",
      "\u001b[36mFile \u001b[39m\u001b[32m~/Desktop/Lab/paper-review-collector/venv/lib/python3.13/site-packages/openreview/api/client.py:1140\u001b[39m, in \u001b[36mOpenReviewClient.get_invitations\u001b[39m\u001b[34m(self, id, ids, invitee, replytoNote, replyForum, signature, note, prefix, tags, limit, offset, after, minduedate, duedate, pastdue, replyto, details, expired, sort, type, with_count, invitation, trash)\u001b[39m\n\u001b[32m   1137\u001b[39m     params[\u001b[33m'\u001b[39m\u001b[33mtrash\u001b[39m\u001b[33m'\u001b[39m] = trash\n\u001b[32m   1139\u001b[39m response = \u001b[38;5;28mself\u001b[39m.session.get(\u001b[38;5;28mself\u001b[39m.invitations_url, params=tools.format_params(params), headers=\u001b[38;5;28mself\u001b[39m.headers)\n\u001b[32m-> \u001b[39m\u001b[32m1140\u001b[39m response = \u001b[38;5;28;43mself\u001b[39;49m\u001b[43m.\u001b[49m\u001b[43m__handle_response\u001b[49m\u001b[43m(\u001b[49m\u001b[43mresponse\u001b[49m\u001b[43m)\u001b[49m\n\u001b[32m   1142\u001b[39m invitations = [Invitation.from_json(i) \u001b[38;5;28;01mfor\u001b[39;00m i \u001b[38;5;129;01min\u001b[39;00m response.json()[\u001b[33m'\u001b[39m\u001b[33minvitations\u001b[39m\u001b[33m'\u001b[39m]]\n\u001b[32m   1144\u001b[39m \u001b[38;5;28;01mif\u001b[39;00m with_count \u001b[38;5;129;01mand\u001b[39;00m params.get(\u001b[33m'\u001b[39m\u001b[33moffset\u001b[39m\u001b[33m'\u001b[39m) \u001b[38;5;129;01mis\u001b[39;00m \u001b[38;5;28;01mNone\u001b[39;00m:\n",
      "\u001b[36mFile \u001b[39m\u001b[32m~/Desktop/Lab/paper-review-collector/venv/lib/python3.13/site-packages/openreview/api/client.py:164\u001b[39m, in \u001b[36mOpenReviewClient.__handle_response\u001b[39m\u001b[34m(self, response)\u001b[39m\n\u001b[32m    159\u001b[39m \u001b[38;5;28;01melse\u001b[39;00m:\n\u001b[32m    160\u001b[39m     error = {\n\u001b[32m    161\u001b[39m         \u001b[33m'\u001b[39m\u001b[33mname\u001b[39m\u001b[33m'\u001b[39m: \u001b[33m'\u001b[39m\u001b[33mError\u001b[39m\u001b[33m'\u001b[39m,\n\u001b[32m    162\u001b[39m         \u001b[33m'\u001b[39m\u001b[33mmessage\u001b[39m\u001b[33m'\u001b[39m: response.reason\n\u001b[32m    163\u001b[39m     }\n\u001b[32m--> \u001b[39m\u001b[32m164\u001b[39m \u001b[38;5;28;01mraise\u001b[39;00m OpenReviewException(error)\n",
      "\u001b[31mOpenReviewException\u001b[39m: {'name': 'ValidationError', 'message': 'request requires at least one of id, ids, invitation, replyForum, replyInvitation, invitee, edit.note.forum, edit.invitation.id, edit.group.id, message.groups.param.inGroup, tag.forum, tag.note as parameter (2025-10-25-6278303)', 'status': 400, 'details': {'path': 'request', 'reqId': '2025-10-25-6278303'}}"
     ]
    }
   ],
   "source": [
    "import openreview.api as openreview_api\n",
    "\n",
    "v2_cl  = openreview_api.OpenReviewClient(\"https://api2.openreview.net\")\n",
    "invitations = v2_cl.get_all_invitations(prefix='ICLR.cc/2018/Conference')\n",
    "\n",
    "print([inv.id for inv in invitations])\n",
    "\n",
    "submit_2 = v2_cl.get_all_notes(\n",
    "    invitation='ICLR.cc/2018/Conference/-/Blind_Submission',\n",
    "    details='directReplies'\n",
    ") "
   ]
  },
  {
   "cell_type": "code",
   "execution_count": 16,
   "id": "c09dbe6d",
   "metadata": {},
   "outputs": [
    {
     "name": "stdout",
     "output_type": "stream",
     "text": [
      "[]\n"
     ]
    }
   ],
   "source": [
    "print(submit_2)"
   ]
  },
  {
   "cell_type": "code",
   "execution_count": 61,
   "id": "26e1dcd5",
   "metadata": {},
   "outputs": [
    {
     "name": "stdout",
     "output_type": "stream",
     "text": [
      "bitch 3\n"
     ]
    },
    {
     "name": "stderr",
     "output_type": "stream",
     "text": [
      "Getting V1 Notes: 100%|█████████▉| 2614/2617 [00:00<00:00, 4630.73it/s]"
     ]
    },
    {
     "name": "stdout",
     "output_type": "stream",
     "text": [
      "{'cdate': 1632875730339,\n",
      " 'content': {'_bibtex': '@inproceedings{\\n'\n",
      "                        'rajkumar2022a,\\n'\n",
      "                        'title={A Theory of Tournament Representations},\\n'\n",
      "                        'author={Arun Rajkumar and Vishnu Veerathu and Abdul '\n",
      "                        'Bakey Mir},\\n'\n",
      "                        'booktitle={International Conference on Learning '\n",
      "                        'Representations},\\n'\n",
      "                        'year={2022},\\n'\n",
      "                        'url={https://openreview.net/forum?id=zzk231Ms1Ih}\\n'\n",
      "                        '}',\n",
      "             'abstract': 'Real-world tournaments are almost always '\n",
      "                         'intransitive. Recent works have noted that '\n",
      "                         'parametric models which assume  $d$ dimensional node '\n",
      "                         'representations can effectively model intransitive '\n",
      "                         'tournaments. However, nothing is known about the '\n",
      "                         'structure of the class of tournaments that arise out '\n",
      "                         'of any fixed $d$ dimensional representations. In '\n",
      "                         'this work, we develop a novel theory for '\n",
      "                         'understanding parametric tournament representations. '\n",
      "                         'Our first contribution is to structurally '\n",
      "                         'characterize the class of tournaments that arise out '\n",
      "                         'of $d$ dimensional representations. We do this by '\n",
      "                         'showing that these tournament classes have forbidden '\n",
      "                         'configurations that must necessarily be a union of '\n",
      "                         'flip classes, a novel way to partition the set of '\n",
      "                         'all tournaments. We further characterize rank $2$ '\n",
      "                         'tournaments completely by showing that the '\n",
      "                         'associated forbidden flip class contains just $2$ '\n",
      "                         'tournaments. Specifically, we show that the rank $2$ '\n",
      "                         'tournaments are equivalent to locally transitive '\n",
      "                         'tournaments. This insight allows us to show that the '\n",
      "                         'minimum feedback arc set problem on this tournament '\n",
      "                         'class can be solved using the standard Quicksort '\n",
      "                         'procedure. We also exhibit specific forbidden '\n",
      "                         'configurations for rank $4$ tournaments. For a '\n",
      "                         'general rank $d$ tournament class, we show that the '\n",
      "                         'flip class associated with a coned-doubly regular '\n",
      "                         'tournament of size $\\\\mathcal{O}(\\\\sqrt{d})$ must be '\n",
      "                         'a forbidden configuration. To answer a dual '\n",
      "                         'question, using a celebrated result of Froster, we '\n",
      "                         'show a lower bound of $\\\\Theta(\\\\sqrt{n})$ on the '\n",
      "                         'minimum dimension needed to represent all '\n",
      "                         'tournaments on $n$ nodes. For any given tournament, '\n",
      "                         'we show a novel upper bound on the smallest '\n",
      "                         'representation dimension that depends on the least '\n",
      "                         'size of the number of unique nodes in any feedback '\n",
      "                         'arc set of the flip class associated with a '\n",
      "                         'tournament. We show how our results also shed light '\n",
      "                         'on the upper bound of sign-rank of matrices. ',\n",
      "             'authorids': ['~Arun_Rajkumar4',\n",
      "                           '~Vishnu_Veerathu1',\n",
      "                           'cs20d400@smail.iitm.ac.in'],\n",
      "             'authors': ['Arun Rajkumar', 'Vishnu Veerathu', 'Abdul Bakey Mir'],\n",
      "             'code_of_ethics': '',\n",
      "             'keywords': ['tournament', 'skew-symmetric', 'pairwise ranking'],\n",
      "             'one-sentence_summary': 'We develop a theory to understand '\n",
      "                                     'tournament representations i.e. '\n",
      "                                     'structurally characterise when a '\n",
      "                                     'tournament graph can be represented in '\n",
      "                                     'lower dimensions using a skew symmetric '\n",
      "                                     'matrix. ',\n",
      "             'paperhash': 'rajkumar|a_theory_of_tournament_representations',\n",
      "             'pdf': '/pdf/a7853d8c301f8a37bc858f4c428d73862dabff26.pdf',\n",
      "             'resubmission': '',\n",
      "             'serve_as_reviewer': '',\n",
      "             'student_author': '',\n",
      "             'submission_guidelines': '',\n",
      "             'title': 'A Theory of Tournament Representations',\n",
      "             'venue': 'ICLR 2022 Poster',\n",
      "             'venueid': 'ICLR.cc/2022/Conference'},\n",
      " 'ddate': None,\n",
      " 'details': None,\n",
      " 'forum': 'zzk231Ms1Ih',\n",
      " 'id': 'zzk231Ms1Ih',\n",
      " 'invitation': 'ICLR.cc/2022/Conference/-/Blind_Submission',\n",
      " 'mdate': None,\n",
      " 'nonreaders': [],\n",
      " 'number': 4095,\n",
      " 'odate': 1633539600000,\n",
      " 'original': '_vWu7gLdTrwb',\n",
      " 'pdate': 1643407560000,\n",
      " 'readers': ['everyone'],\n",
      " 'referent': None,\n",
      " 'replyto': None,\n",
      " 'signatures': ['ICLR.cc/2022/Conference'],\n",
      " 'tcdate': 1632875730339,\n",
      " 'tmdate': 1676330471169,\n",
      " 'writers': ['ICLR.cc/2022/Conference']}\n",
      "ICLR 2018 notes: 2617\n"
     ]
    },
    {
     "name": "stderr",
     "output_type": "stream",
     "text": [
      "\n"
     ]
    }
   ],
   "source": [
    "def fetch_submissions_iclr2018():\n",
    "    # Try API v2 first (will likely return 0 for 2018)\n",
    "    try:\n",
    "        import openreview.api as openreview_api\n",
    "        v2 = openreview_api.OpenReviewClient(baseurl=\"https://api2.openreview.net\")\n",
    "        notes_v2 = v2.get_all_notes(invitation=\"ICLR.cc/2022/Conference/-/Blind_Submission\")\n",
    "        if notes_v2:\n",
    "            print(\"bitch1\")\n",
    "            return notes_v2\n",
    "    except Exception:\n",
    "        print(\"bitch2\")\n",
    "        # pass\n",
    "\n",
    "    # Fallback to API v1 for legacy venues\n",
    "    import openreview\n",
    "    v1 = openreview.Client(baseurl=\"https://api.openreview.net\")\n",
    "    print(\"bitch 3\")\n",
    "    return v1.get_all_notes(invitation=\"ICLR.cc/2022/Conference/-/Blind_Submission\")\n",
    "\n",
    "notes = fetch_submissions_iclr2018()\n",
    "print(notes[0])\n",
    "with open(\"2022.json\",\"w\") as f:\n",
    "    json.dump(notes[0].to_json(),f,indent=4)\n",
    "print(\"ICLR 2018 notes:\", len(notes))\n"
   ]
  },
  {
   "cell_type": "code",
   "execution_count": null,
   "id": "0e7b881c",
   "metadata": {},
   "outputs": [
    {
     "ename": "NameError",
     "evalue": "name 'v2_cl' is not defined",
     "output_type": "error",
     "traceback": [
      "\u001b[31m---------------------------------------------------------------------------\u001b[39m",
      "\u001b[31mNameError\u001b[39m                                 Traceback (most recent call last)",
      "\u001b[36mCell\u001b[39m\u001b[36m \u001b[39m\u001b[32mIn[3]\u001b[39m\u001b[32m, line 11\u001b[39m\n\u001b[32m      5\u001b[39m \u001b[38;5;66;03m# submissions = client.get_all_notes(\u001b[39;00m\n\u001b[32m      6\u001b[39m \u001b[38;5;66;03m#     invitation='ICLR.cc/2018/Conference/-/Blind_Submission',\u001b[39;00m\n\u001b[32m      7\u001b[39m \u001b[38;5;66;03m#     details='directReplies',   # embed replies (reviews, comments, etc.)\u001b[39;00m\n\u001b[32m      8\u001b[39m \u001b[38;5;66;03m# )\u001b[39;00m\n\u001b[32m      9\u001b[39m api2_venueid = \u001b[33m'\u001b[39m\u001b[33mICLR.cc/2018/Conference\u001b[39m\u001b[33m'\u001b[39m \u001b[38;5;66;03m#In 2024, NeurIPS used API 2\u001b[39;00m\n\u001b[32m---> \u001b[39m\u001b[32m11\u001b[39m api2_venue_group = \u001b[43mv2_cl\u001b[49m.get_group(api2_venueid)\n\u001b[32m     12\u001b[39m api2_venue_domain = api2_venue_group.domain\n\u001b[32m     13\u001b[39m \u001b[38;5;28mprint\u001b[39m(api2_venue_domain) \n",
      "\u001b[31mNameError\u001b[39m: name 'v2_cl' is not defined"
     ]
    }
   ],
   "source": [
    "# api2_venueid = 'NeurIPS.cc/2024/Conference' #In 2024, NeurIPS used API 2\n",
    "\n",
    "client = openreview.Client(baseurl='https://api.openreview.net')  # API v1\n",
    "\n",
    "# submissions = client.get_all_notes(\n",
    "#     invitation='ICLR.cc/2018/Conference/-/Blind_Submission',\n",
    "#     details='directReplies',   # embed replies (reviews, comments, etc.)\n",
    "# )\n",
    "api2_venueid = 'ICLR.cc/2018/Conference' #In 2024, NeurIPS used API 2\n",
    "\n",
    "api2_venue_group = v2_cl.get_group(api2_venueid)\n",
    "api2_venue_domain = api2_venue_group.domain\n",
    "print(api2_venue_domain) \n",
    "#Output: NeurIPS.cc/2024/Conference\n",
    "\n",
    "api1_venueid = 'ICLR.cc/2018/Conference' #In 2022, NeruIPS used API1\n",
    "api1_venue_group = client.get_group(api1_venueid)\n",
    "api1_venue_domain = api1_venue_group.domain\n",
    "print(api1_venue_domain) \n",
    "#Output: None"
   ]
  },
  {
   "cell_type": "code",
   "execution_count": 37,
   "id": "1a84fb4d",
   "metadata": {},
   "outputs": [],
   "source": [
    "v1_cl = openreview.Client(baseurl=\"https://api.openreview.net\")\n",
    "\n",
    "submit_1 = v1_cl.get_all_notes(\n",
    "    invitation='ICLR.cc/2018/Conference/-/Blind_Submission',\n",
    "    details='directReplies'\n",
    ") "
   ]
  },
  {
   "cell_type": "code",
   "execution_count": 30,
   "id": "31144e3a",
   "metadata": {},
   "outputs": [],
   "source": [
    "# print(submit_1[])\n",
    "\n",
    "with open(f\"paper_v1.json\",\"w\") as file:\n",
    "  json.dump(submit_1[30].to_json(),file,indent=4)"
   ]
  },
  {
   "cell_type": "code",
   "execution_count": null,
   "id": "3bd9b1b6",
   "metadata": {},
   "outputs": [
    {
     "name": "stderr",
     "output_type": "stream",
     "text": [
      "Getting V1 Notes: 100%|█████████▉| 2614/2617 [00:01<00:00, 2515.87it/s]"
     ]
    },
    {
     "name": "stdout",
     "output_type": "stream",
     "text": [
      "<class 'dict'>\n"
     ]
    },
    {
     "name": "stderr",
     "output_type": "stream",
     "text": [
      "\n"
     ]
    }
   ],
   "source": [
    "url = \"ICLR.cc/2022/Conference/-/Blind_Submission\"\n",
    "\n",
    "client = openreview.Client(baseurl='https://api.openreview.net')  # API v1\n",
    "submissions = client.get_all_notes(invitation=url,details=\"directReplies\")\n",
    "\n",
    "paper0 = submissions[0]\n",
    "print(type(paper0))"
   ]
  },
  {
   "cell_type": "code",
   "execution_count": null,
   "id": "e14edba2",
   "metadata": {},
   "outputs": [],
   "source": [
    "save_json(paper0,\"det\",False)"
   ]
  },
  {
   "cell_type": "markdown",
   "id": "a1b3055e",
   "metadata": {},
   "source": [
    "<h1> hello"
   ]
  },
  {
   "cell_type": "code",
   "execution_count": 11,
   "id": "020bc21d",
   "metadata": {},
   "outputs": [],
   "source": [
    "# Get the forum of the paper \n",
    "reviews = client.get_notes(forum=paper0.forum)\n",
    "review1 = reviews[1]"
   ]
  },
  {
   "cell_type": "code",
   "execution_count": 18,
   "id": "91354651",
   "metadata": {},
   "outputs": [],
   "source": [
    "for i in range(len(reviews)):\n",
    "    with open(f\"review_{i}.json\",\"w\") as file:\n",
    "        json.dump(reviews[i].to_json(),file,indent=4)"
   ]
  },
  {
   "cell_type": "code",
   "execution_count": 76,
   "id": "96988dac",
   "metadata": {},
   "outputs": [],
   "source": [
    "def threadify(\n",
    "    reviews: Iterable[Any],\n",
    "    *,\n",
    "    to_dict: Callable[[Any], Dict[str, Any]] = lambda x: x.to_json() if hasattr(x, \"to_json\") else dict(x),\n",
    "    id_key: str = \"id\",\n",
    "    parent_key: str = \"replyto\",\n",
    "    root_id: Optional[Any] = None,            # if None, we’ll infer from the first item’s .forum if present\n",
    "    children_key: str = \"Sub(s)\",             # keep your existing key name\n",
    "    keep_order: bool = True                   # preserve input order within siblings\n",
    ") -> List[Dict[str, Any]]:\n",
    "    \"\"\"\n",
    "    Build a nested comment tree of arbitrary depth.\n",
    "\n",
    "    - reviews: list/iterable of objects or dicts\n",
    "    - to_dict: how to turn each item into a dict\n",
    "    - id_key: field with the unique id\n",
    "    - parent_key: field pointing to parent id\n",
    "    - root_id: id considered the top-level parent (items replying to this become roots).\n",
    "               If None, and the first review has attribute `.forum`, that value is used.\n",
    "    - children_key: key used to store children\n",
    "    - keep_order: if True, siblings appear in the same order as input\n",
    "    \"\"\"\n",
    "    reviews = list(reviews)\n",
    "    if not reviews:\n",
    "        return []\n",
    "\n",
    "    # Infer root_id from the first element’s `.forum` if not provided\n",
    "    if root_id is None and hasattr(reviews[0], \"forum\"):\n",
    "        root_id = getattr(reviews[0], \"forum\")\n",
    "\n",
    "    # Normalize to dicts while preserving input order index (for stable sibling ordering)\n",
    "    norm: List[Dict[str, Any]] = []\n",
    "    for idx, item in enumerate(reviews):\n",
    "        d = to_dict(item)\n",
    "        d.setdefault(children_key, [])\n",
    "        d[\"_order_index\"] = idx  # hidden key for ordering; stripped later\n",
    "        norm.append(d)\n",
    "\n",
    "    # Index by id\n",
    "    by_id: \"OrderedDict[Any, Dict[str, Any]]\" = OrderedDict()\n",
    "    for d in norm:\n",
    "        key = d.get(id_key)\n",
    "        if key is not None:\n",
    "            by_id[key] = d\n",
    "\n",
    "    # Attach children to parents where possible\n",
    "    roots: List[Dict[str, Any]] = []\n",
    "    for d in norm:\n",
    "        pid = d.get(parent_key)\n",
    "        # Root if it replies to the root_id OR if parent is missing/unknown\n",
    "        if pid == root_id or pid not in by_id:\n",
    "            roots.append(d)\n",
    "        else:\n",
    "            parent = by_id[pid]\n",
    "            parent.setdefault(children_key, []).append(d)\n",
    "\n",
    "    # Optionally sort siblings by original input order\n",
    "    def sort_children(node: Dict[str, Any]):\n",
    "        if children_key in node and node[children_key]:\n",
    "            node[children_key].sort(key=lambda x: x[\"_order_index\"])\n",
    "            for c in node[children_key]:\n",
    "                sort_children(c)\n",
    "\n",
    "    if keep_order:\n",
    "        for r in roots:\n",
    "            sort_children(r)\n",
    "        roots.sort(key=lambda x: x[\"_order_index\"])\n",
    "\n",
    "    # Strip helper keys\n",
    "    def cleanup(node: Dict[str, Any]):\n",
    "        node.pop(\"_order_index\", None)\n",
    "        for c in node.get(children_key, []):\n",
    "            cleanup(c)\n",
    "\n",
    "    for r in roots:\n",
    "        cleanup(r)\n",
    "\n",
    "    return roots\n",
    "\n",
    "def getSinglePaperDetail(paperForumID):\n",
    "    reviews = client.get_notes(forum=paperForumID)\n",
    "    tree = threadify(\n",
    "        reviews,\n",
    "        id_key=\"id\",\n",
    "        parent_key=\"replyto\",\n",
    "        children_key=\"Sub(s)\",   # keeps your existing name\n",
    "        # root_id=reviews[0].forum   # optional; inferred if reviews[0] has .forum\n",
    "    )\n",
    "    # Just a bit of clean up\n",
    "    del tree[0][\"Sub(s)\"]\n",
    "\n",
    "    # Actual URL to the paper\n",
    "    # tree[0].content[\"pdf\"] = f\"https://openreview.net{tree[0].content[\"pdf\"]}\"\n",
    "    # Starting point\n",
    "    paper_reviews = tree[0]\n",
    "\n",
    "    # Get the decision\n",
    "    for revObj in reviews[1:]:\n",
    "        rev = revObj.to_json()\n",
    "        if rev[\"content\"].get(\"decision\"):\n",
    "            paper_reviews[\"decision\"] = rev[\"content\"].get(\"decision\")\n",
    "            break\n",
    "    \n",
    "    # Add all comments and reviews\n",
    "    paper_reviews[\"reviews\"] = tree[1:]\n",
    "\n",
    "    return paper_reviews\n",
    "    "
   ]
  },
  {
   "cell_type": "code",
   "execution_count": null,
   "id": "0323bef7",
   "metadata": {},
   "outputs": [
    {
     "data": {
      "text/plain": [
       "935"
      ]
     },
     "execution_count": 78,
     "metadata": {},
     "output_type": "execute_result"
    }
   ],
   "source": []
  },
  {
   "cell_type": "code",
   "execution_count": null,
   "id": "613b91e2",
   "metadata": {},
   "outputs": [
    {
     "name": "stdout",
     "output_type": "stream",
     "text": [
      "running paper: 0 out of 935 (0%)\n",
      "Retrying request: GET /notes?forum=ryzm6BATZ, response: <urllib3.response.HTTPResponse object at 0x12601a6b0>, error: None\n",
      "running paper: 1 out of 935 (0%)\n",
      "running paper: 2 out of 935 (0%)\n",
      "running paper: 3 out of 935 (0%)\n",
      "running paper: 4 out of 935 (0%)\n",
      "running paper: 5 out of 935 (0%)\n",
      "running paper: 6 out of 935 (0%)\n",
      "running paper: 7 out of 935 (0%)\n",
      "running paper: 8 out of 935 (0%)\n",
      "running paper: 9 out of 935 (0%)\n",
      "running paper: 10 out of 935 (1%)\n",
      "running paper: 11 out of 935 (1%)\n",
      "running paper: 12 out of 935 (1%)\n",
      "running paper: 13 out of 935 (1%)\n",
      "running paper: 14 out of 935 (1%)\n",
      "running paper: 15 out of 935 (1%)\n",
      "running paper: 16 out of 935 (1%)\n",
      "running paper: 17 out of 935 (1%)\n",
      "running paper: 18 out of 935 (1%)\n",
      "running paper: 19 out of 935 (2%)\n",
      "running paper: 20 out of 935 (2%)\n",
      "running paper: 21 out of 935 (2%)\n",
      "running paper: 22 out of 935 (2%)\n",
      "running paper: 23 out of 935 (2%)\n",
      "running paper: 24 out of 935 (2%)\n",
      "running paper: 25 out of 935 (2%)\n",
      "running paper: 26 out of 935 (2%)\n",
      "running paper: 27 out of 935 (2%)\n",
      "running paper: 28 out of 935 (2%)\n",
      "running paper: 29 out of 935 (3%)\n",
      "running paper: 30 out of 935 (3%)\n",
      "running paper: 31 out of 935 (3%)\n",
      "running paper: 32 out of 935 (3%)\n",
      "running paper: 33 out of 935 (3%)\n",
      "running paper: 34 out of 935 (3%)\n",
      "running paper: 35 out of 935 (3%)\n",
      "running paper: 36 out of 935 (3%)\n",
      "running paper: 37 out of 935 (3%)\n",
      "running paper: 38 out of 935 (4%)\n",
      "running paper: 39 out of 935 (4%)\n",
      "running paper: 40 out of 935 (4%)\n",
      "running paper: 41 out of 935 (4%)\n",
      "running paper: 42 out of 935 (4%)\n",
      "running paper: 43 out of 935 (4%)\n",
      "running paper: 44 out of 935 (4%)\n",
      "running paper: 45 out of 935 (4%)\n",
      "running paper: 46 out of 935 (4%)\n",
      "running paper: 47 out of 935 (5%)\n",
      "running paper: 48 out of 935 (5%)\n",
      "running paper: 49 out of 935 (5%)\n",
      "running paper: 50 out of 935 (5%)\n",
      "running paper: 51 out of 935 (5%)\n",
      "running paper: 52 out of 935 (5%)\n",
      "running paper: 53 out of 935 (5%)\n",
      "running paper: 54 out of 935 (5%)\n",
      "running paper: 55 out of 935 (5%)\n",
      "running paper: 56 out of 935 (5%)\n",
      "running paper: 57 out of 935 (6%)\n",
      "running paper: 58 out of 935 (6%)\n",
      "running paper: 59 out of 935 (6%)\n",
      "running paper: 60 out of 935 (6%)\n",
      "Retrying request: GET /notes?forum=ry018WZAZ, response: <urllib3.response.HTTPResponse object at 0x15efee6b0>, error: None\n"
     ]
    },
    {
     "ename": "KeyboardInterrupt",
     "evalue": "",
     "output_type": "error",
     "traceback": [
      "\u001b[31m---------------------------------------------------------------------------\u001b[39m",
      "\u001b[31mKeyboardInterrupt\u001b[39m                         Traceback (most recent call last)",
      "\u001b[36mCell\u001b[39m\u001b[36m \u001b[39m\u001b[32mIn[80]\u001b[39m\u001b[32m, line 6\u001b[39m\n\u001b[32m      4\u001b[39m \u001b[38;5;28;01mfor\u001b[39;00m paper \u001b[38;5;129;01min\u001b[39;00m submissions:\n\u001b[32m      5\u001b[39m     \u001b[38;5;28mprint\u001b[39m(\u001b[33mf\u001b[39m\u001b[33m\"\u001b[39m\u001b[33mrunning paper: \u001b[39m\u001b[38;5;132;01m{\u001b[39;00mcounter\u001b[38;5;132;01m}\u001b[39;00m\u001b[33m out of \u001b[39m\u001b[38;5;132;01m{\u001b[39;00mtotal\u001b[38;5;132;01m}\u001b[39;00m\u001b[33m (\u001b[39m\u001b[38;5;132;01m{\u001b[39;00m\u001b[38;5;28mint\u001b[39m(\u001b[32m100\u001b[39m*(counter/total))\u001b[38;5;132;01m}\u001b[39;00m\u001b[33m%)\u001b[39m\u001b[33m\"\u001b[39m)\n\u001b[32m----> \u001b[39m\u001b[32m6\u001b[39m     f.write(json.dumps(\u001b[43mgetSinglePaperDetail\u001b[49m\u001b[43m(\u001b[49m\u001b[43mpaper\u001b[49m\u001b[43m.\u001b[49m\u001b[43mforum\u001b[49m\u001b[43m)\u001b[49m) + \u001b[33m\"\u001b[39m\u001b[38;5;130;01m\\n\u001b[39;00m\u001b[33m\"\u001b[39m)\n\u001b[32m      7\u001b[39m     counter +=\u001b[32m1\u001b[39m\n",
      "\u001b[36mCell\u001b[39m\u001b[36m \u001b[39m\u001b[32mIn[76]\u001b[39m\u001b[32m, line 81\u001b[39m, in \u001b[36mgetSinglePaperDetail\u001b[39m\u001b[34m(paperForumID)\u001b[39m\n\u001b[32m     80\u001b[39m \u001b[38;5;28;01mdef\u001b[39;00m\u001b[38;5;250m \u001b[39m\u001b[34mgetSinglePaperDetail\u001b[39m(paperForumID):\n\u001b[32m---> \u001b[39m\u001b[32m81\u001b[39m     reviews = \u001b[43mclient\u001b[49m\u001b[43m.\u001b[49m\u001b[43mget_notes\u001b[49m\u001b[43m(\u001b[49m\u001b[43mforum\u001b[49m\u001b[43m=\u001b[49m\u001b[43mpaperForumID\u001b[49m\u001b[43m)\u001b[49m\n\u001b[32m     82\u001b[39m     tree = threadify(\n\u001b[32m     83\u001b[39m         reviews,\n\u001b[32m     84\u001b[39m         id_key=\u001b[33m\"\u001b[39m\u001b[33mid\u001b[39m\u001b[33m\"\u001b[39m,\n\u001b[32m   (...)\u001b[39m\u001b[32m     87\u001b[39m         \u001b[38;5;66;03m# root_id=reviews[0].forum   # optional; inferred if reviews[0] has .forum\u001b[39;00m\n\u001b[32m     88\u001b[39m     )\n\u001b[32m     89\u001b[39m     \u001b[38;5;66;03m# Just a bit of clean up\u001b[39;00m\n",
      "\u001b[36mFile \u001b[39m\u001b[32m/Library/Frameworks/Python.framework/Versions/3.13/lib/python3.13/site-packages/openreview/openreview.py:1103\u001b[39m, in \u001b[36mClient.get_notes\u001b[39m\u001b[34m(self, id, paperhash, forum, original, invitation, replyto, tauthor, signature, signatures, writer, trash, number, content, limit, offset, after, mintcdate, details, sort, with_count, select)\u001b[39m\n\u001b[32m   1100\u001b[39m params[\u001b[33m'\u001b[39m\u001b[33msort\u001b[39m\u001b[33m'\u001b[39m] = sort\n\u001b[32m   1101\u001b[39m params[\u001b[33m'\u001b[39m\u001b[33moriginal\u001b[39m\u001b[33m'\u001b[39m] = original\n\u001b[32m-> \u001b[39m\u001b[32m1103\u001b[39m response = \u001b[38;5;28;43mself\u001b[39;49m\u001b[43m.\u001b[49m\u001b[43msession\u001b[49m\u001b[43m.\u001b[49m\u001b[43mget\u001b[49m\u001b[43m(\u001b[49m\u001b[38;5;28;43mself\u001b[39;49m\u001b[43m.\u001b[49m\u001b[43mnotes_url\u001b[49m\u001b[43m,\u001b[49m\u001b[43m \u001b[49m\u001b[43mparams\u001b[49m\u001b[43m=\u001b[49m\u001b[43mtools\u001b[49m\u001b[43m.\u001b[49m\u001b[43mformat_params\u001b[49m\u001b[43m(\u001b[49m\u001b[43mparams\u001b[49m\u001b[43m)\u001b[49m\u001b[43m,\u001b[49m\u001b[43m \u001b[49m\u001b[43mheaders\u001b[49m\u001b[43m=\u001b[49m\u001b[38;5;28;43mself\u001b[39;49m\u001b[43m.\u001b[49m\u001b[43mheaders\u001b[49m\u001b[43m)\u001b[49m\n\u001b[32m   1104\u001b[39m response = \u001b[38;5;28mself\u001b[39m.__handle_response(response)\n\u001b[32m   1106\u001b[39m notes = [Note.from_json(n) \u001b[38;5;28;01mfor\u001b[39;00m n \u001b[38;5;129;01min\u001b[39;00m response.json()[\u001b[33m'\u001b[39m\u001b[33mnotes\u001b[39m\u001b[33m'\u001b[39m]]\n",
      "\u001b[36mFile \u001b[39m\u001b[32m/Library/Frameworks/Python.framework/Versions/3.13/lib/python3.13/site-packages/requests/sessions.py:602\u001b[39m, in \u001b[36mSession.get\u001b[39m\u001b[34m(self, url, **kwargs)\u001b[39m\n\u001b[32m    594\u001b[39m \u001b[38;5;250m\u001b[39m\u001b[33mr\u001b[39m\u001b[33;03m\"\"\"Sends a GET request. Returns :class:`Response` object.\u001b[39;00m\n\u001b[32m    595\u001b[39m \n\u001b[32m    596\u001b[39m \u001b[33;03m:param url: URL for the new :class:`Request` object.\u001b[39;00m\n\u001b[32m    597\u001b[39m \u001b[33;03m:param \\*\\*kwargs: Optional arguments that ``request`` takes.\u001b[39;00m\n\u001b[32m    598\u001b[39m \u001b[33;03m:rtype: requests.Response\u001b[39;00m\n\u001b[32m    599\u001b[39m \u001b[33;03m\"\"\"\u001b[39;00m\n\u001b[32m    601\u001b[39m kwargs.setdefault(\u001b[33m\"\u001b[39m\u001b[33mallow_redirects\u001b[39m\u001b[33m\"\u001b[39m, \u001b[38;5;28;01mTrue\u001b[39;00m)\n\u001b[32m--> \u001b[39m\u001b[32m602\u001b[39m \u001b[38;5;28;01mreturn\u001b[39;00m \u001b[38;5;28;43mself\u001b[39;49m\u001b[43m.\u001b[49m\u001b[43mrequest\u001b[49m\u001b[43m(\u001b[49m\u001b[33;43m\"\u001b[39;49m\u001b[33;43mGET\u001b[39;49m\u001b[33;43m\"\u001b[39;49m\u001b[43m,\u001b[49m\u001b[43m \u001b[49m\u001b[43murl\u001b[49m\u001b[43m,\u001b[49m\u001b[43m \u001b[49m\u001b[43m*\u001b[49m\u001b[43m*\u001b[49m\u001b[43mkwargs\u001b[49m\u001b[43m)\u001b[49m\n",
      "\u001b[36mFile \u001b[39m\u001b[32m/Library/Frameworks/Python.framework/Versions/3.13/lib/python3.13/site-packages/requests/sessions.py:589\u001b[39m, in \u001b[36mSession.request\u001b[39m\u001b[34m(self, method, url, params, data, headers, cookies, files, auth, timeout, allow_redirects, proxies, hooks, stream, verify, cert, json)\u001b[39m\n\u001b[32m    584\u001b[39m send_kwargs = {\n\u001b[32m    585\u001b[39m     \u001b[33m\"\u001b[39m\u001b[33mtimeout\u001b[39m\u001b[33m\"\u001b[39m: timeout,\n\u001b[32m    586\u001b[39m     \u001b[33m\"\u001b[39m\u001b[33mallow_redirects\u001b[39m\u001b[33m\"\u001b[39m: allow_redirects,\n\u001b[32m    587\u001b[39m }\n\u001b[32m    588\u001b[39m send_kwargs.update(settings)\n\u001b[32m--> \u001b[39m\u001b[32m589\u001b[39m resp = \u001b[38;5;28;43mself\u001b[39;49m\u001b[43m.\u001b[49m\u001b[43msend\u001b[49m\u001b[43m(\u001b[49m\u001b[43mprep\u001b[49m\u001b[43m,\u001b[49m\u001b[43m \u001b[49m\u001b[43m*\u001b[49m\u001b[43m*\u001b[49m\u001b[43msend_kwargs\u001b[49m\u001b[43m)\u001b[49m\n\u001b[32m    591\u001b[39m \u001b[38;5;28;01mreturn\u001b[39;00m resp\n",
      "\u001b[36mFile \u001b[39m\u001b[32m/Library/Frameworks/Python.framework/Versions/3.13/lib/python3.13/site-packages/requests/sessions.py:703\u001b[39m, in \u001b[36mSession.send\u001b[39m\u001b[34m(self, request, **kwargs)\u001b[39m\n\u001b[32m    700\u001b[39m start = preferred_clock()\n\u001b[32m    702\u001b[39m \u001b[38;5;66;03m# Send the request\u001b[39;00m\n\u001b[32m--> \u001b[39m\u001b[32m703\u001b[39m r = \u001b[43madapter\u001b[49m\u001b[43m.\u001b[49m\u001b[43msend\u001b[49m\u001b[43m(\u001b[49m\u001b[43mrequest\u001b[49m\u001b[43m,\u001b[49m\u001b[43m \u001b[49m\u001b[43m*\u001b[49m\u001b[43m*\u001b[49m\u001b[43mkwargs\u001b[49m\u001b[43m)\u001b[49m\n\u001b[32m    705\u001b[39m \u001b[38;5;66;03m# Total elapsed time of the request (approximately)\u001b[39;00m\n\u001b[32m    706\u001b[39m elapsed = preferred_clock() - start\n",
      "\u001b[36mFile \u001b[39m\u001b[32m/Library/Frameworks/Python.framework/Versions/3.13/lib/python3.13/site-packages/requests/adapters.py:486\u001b[39m, in \u001b[36mHTTPAdapter.send\u001b[39m\u001b[34m(self, request, stream, timeout, verify, cert, proxies)\u001b[39m\n\u001b[32m    483\u001b[39m     timeout = TimeoutSauce(connect=timeout, read=timeout)\n\u001b[32m    485\u001b[39m \u001b[38;5;28;01mtry\u001b[39;00m:\n\u001b[32m--> \u001b[39m\u001b[32m486\u001b[39m     resp = \u001b[43mconn\u001b[49m\u001b[43m.\u001b[49m\u001b[43murlopen\u001b[49m\u001b[43m(\u001b[49m\n\u001b[32m    487\u001b[39m \u001b[43m        \u001b[49m\u001b[43mmethod\u001b[49m\u001b[43m=\u001b[49m\u001b[43mrequest\u001b[49m\u001b[43m.\u001b[49m\u001b[43mmethod\u001b[49m\u001b[43m,\u001b[49m\n\u001b[32m    488\u001b[39m \u001b[43m        \u001b[49m\u001b[43murl\u001b[49m\u001b[43m=\u001b[49m\u001b[43murl\u001b[49m\u001b[43m,\u001b[49m\n\u001b[32m    489\u001b[39m \u001b[43m        \u001b[49m\u001b[43mbody\u001b[49m\u001b[43m=\u001b[49m\u001b[43mrequest\u001b[49m\u001b[43m.\u001b[49m\u001b[43mbody\u001b[49m\u001b[43m,\u001b[49m\n\u001b[32m    490\u001b[39m \u001b[43m        \u001b[49m\u001b[43mheaders\u001b[49m\u001b[43m=\u001b[49m\u001b[43mrequest\u001b[49m\u001b[43m.\u001b[49m\u001b[43mheaders\u001b[49m\u001b[43m,\u001b[49m\n\u001b[32m    491\u001b[39m \u001b[43m        \u001b[49m\u001b[43mredirect\u001b[49m\u001b[43m=\u001b[49m\u001b[38;5;28;43;01mFalse\u001b[39;49;00m\u001b[43m,\u001b[49m\n\u001b[32m    492\u001b[39m \u001b[43m        \u001b[49m\u001b[43massert_same_host\u001b[49m\u001b[43m=\u001b[49m\u001b[38;5;28;43;01mFalse\u001b[39;49;00m\u001b[43m,\u001b[49m\n\u001b[32m    493\u001b[39m \u001b[43m        \u001b[49m\u001b[43mpreload_content\u001b[49m\u001b[43m=\u001b[49m\u001b[38;5;28;43;01mFalse\u001b[39;49;00m\u001b[43m,\u001b[49m\n\u001b[32m    494\u001b[39m \u001b[43m        \u001b[49m\u001b[43mdecode_content\u001b[49m\u001b[43m=\u001b[49m\u001b[38;5;28;43;01mFalse\u001b[39;49;00m\u001b[43m,\u001b[49m\n\u001b[32m    495\u001b[39m \u001b[43m        \u001b[49m\u001b[43mretries\u001b[49m\u001b[43m=\u001b[49m\u001b[38;5;28;43mself\u001b[39;49m\u001b[43m.\u001b[49m\u001b[43mmax_retries\u001b[49m\u001b[43m,\u001b[49m\n\u001b[32m    496\u001b[39m \u001b[43m        \u001b[49m\u001b[43mtimeout\u001b[49m\u001b[43m=\u001b[49m\u001b[43mtimeout\u001b[49m\u001b[43m,\u001b[49m\n\u001b[32m    497\u001b[39m \u001b[43m        \u001b[49m\u001b[43mchunked\u001b[49m\u001b[43m=\u001b[49m\u001b[43mchunked\u001b[49m\u001b[43m,\u001b[49m\n\u001b[32m    498\u001b[39m \u001b[43m    \u001b[49m\u001b[43m)\u001b[49m\n\u001b[32m    500\u001b[39m \u001b[38;5;28;01mexcept\u001b[39;00m (ProtocolError, \u001b[38;5;167;01mOSError\u001b[39;00m) \u001b[38;5;28;01mas\u001b[39;00m err:\n\u001b[32m    501\u001b[39m     \u001b[38;5;28;01mraise\u001b[39;00m \u001b[38;5;167;01mConnectionError\u001b[39;00m(err, request=request)\n",
      "\u001b[36mFile \u001b[39m\u001b[32m/Library/Frameworks/Python.framework/Versions/3.13/lib/python3.13/site-packages/urllib3/connectionpool.py:892\u001b[39m, in \u001b[36mHTTPConnectionPool.urlopen\u001b[39m\u001b[34m(self, method, url, body, headers, retries, redirect, assert_same_host, timeout, pool_timeout, release_conn, chunked, body_pos, **response_kw)\u001b[39m\n\u001b[32m    889\u001b[39m     \u001b[38;5;28;01mreturn\u001b[39;00m response\n\u001b[32m    891\u001b[39m response.drain_conn()\n\u001b[32m--> \u001b[39m\u001b[32m892\u001b[39m \u001b[43mretries\u001b[49m\u001b[43m.\u001b[49m\u001b[43msleep\u001b[49m\u001b[43m(\u001b[49m\u001b[43mresponse\u001b[49m\u001b[43m)\u001b[49m\n\u001b[32m    893\u001b[39m log.debug(\u001b[33m\"\u001b[39m\u001b[33mRetry: \u001b[39m\u001b[38;5;132;01m%s\u001b[39;00m\u001b[33m\"\u001b[39m, url)\n\u001b[32m    894\u001b[39m \u001b[38;5;28;01mreturn\u001b[39;00m \u001b[38;5;28mself\u001b[39m.urlopen(\n\u001b[32m    895\u001b[39m     method,\n\u001b[32m    896\u001b[39m     url,\n\u001b[32m   (...)\u001b[39m\u001b[32m    907\u001b[39m     **response_kw\n\u001b[32m    908\u001b[39m )\n",
      "\u001b[36mFile \u001b[39m\u001b[32m/Library/Frameworks/Python.framework/Versions/3.13/lib/python3.13/site-packages/urllib3/util/retry.py:428\u001b[39m, in \u001b[36mRetry.sleep\u001b[39m\u001b[34m(self, response)\u001b[39m\n\u001b[32m    419\u001b[39m \u001b[38;5;250m\u001b[39m\u001b[33;03m\"\"\"Sleep between retry attempts.\u001b[39;00m\n\u001b[32m    420\u001b[39m \n\u001b[32m    421\u001b[39m \u001b[33;03mThis method will respect a server's ``Retry-After`` response header\u001b[39;00m\n\u001b[32m   (...)\u001b[39m\u001b[32m    424\u001b[39m \u001b[33;03mthis method will return immediately.\u001b[39;00m\n\u001b[32m    425\u001b[39m \u001b[33;03m\"\"\"\u001b[39;00m\n\u001b[32m    427\u001b[39m \u001b[38;5;28;01mif\u001b[39;00m \u001b[38;5;28mself\u001b[39m.respect_retry_after_header \u001b[38;5;129;01mand\u001b[39;00m response:\n\u001b[32m--> \u001b[39m\u001b[32m428\u001b[39m     slept = \u001b[38;5;28;43mself\u001b[39;49m\u001b[43m.\u001b[49m\u001b[43msleep_for_retry\u001b[49m\u001b[43m(\u001b[49m\u001b[43mresponse\u001b[49m\u001b[43m)\u001b[49m\n\u001b[32m    429\u001b[39m     \u001b[38;5;28;01mif\u001b[39;00m slept:\n\u001b[32m    430\u001b[39m         \u001b[38;5;28;01mreturn\u001b[39;00m\n",
      "\u001b[36mFile \u001b[39m\u001b[32m/Library/Frameworks/Python.framework/Versions/3.13/lib/python3.13/site-packages/urllib3/util/retry.py:407\u001b[39m, in \u001b[36mRetry.sleep_for_retry\u001b[39m\u001b[34m(self, response)\u001b[39m\n\u001b[32m    405\u001b[39m retry_after = \u001b[38;5;28mself\u001b[39m.get_retry_after(response)\n\u001b[32m    406\u001b[39m \u001b[38;5;28;01mif\u001b[39;00m retry_after:\n\u001b[32m--> \u001b[39m\u001b[32m407\u001b[39m     \u001b[43mtime\u001b[49m\u001b[43m.\u001b[49m\u001b[43msleep\u001b[49m\u001b[43m(\u001b[49m\u001b[43mretry_after\u001b[49m\u001b[43m)\u001b[49m\n\u001b[32m    408\u001b[39m     \u001b[38;5;28;01mreturn\u001b[39;00m \u001b[38;5;28;01mTrue\u001b[39;00m\n\u001b[32m    410\u001b[39m \u001b[38;5;28;01mreturn\u001b[39;00m \u001b[38;5;28;01mFalse\u001b[39;00m\n",
      "\u001b[31mKeyboardInterrupt\u001b[39m: "
     ]
    }
   ],
   "source": [
    "counter = 0\n",
    "total = len(submissions)\n",
    "with open(\"iclr2018.jsonl\",\"w\",encoding=\"utf-8\") as f:\n",
    "    for paper in submissions:\n",
    "        print(f\"({int(100*(counter/total))}%) Processing Paper: {counter} out of {total}\")\n",
    "        f.write(json.dumps(getSinglePaperDetail(paper.forum)) + \"\\n\")\n",
    "        counter +=1\n",
    "        "
   ]
  },
  {
   "cell_type": "code",
   "execution_count": null,
   "id": "8b33b1f8",
   "metadata": {},
   "outputs": [
    {
     "name": "stdout",
     "output_type": "stream",
     "text": [
      "{'id': 'ryzm6BATZ', 'original': 'B1zmTBAT-', 'cdate': 1518730189355, 'pdate': None, 'odate': None, 'mdate': None, 'tcdate': 1508953370259, 'tmdate': 1644493022819, 'ddate': None, 'number': 93, 'content': {'title': 'Image Quality Assessment Techniques Improve Training and Evaluation of Energy-Based Generative Adversarial Networks', 'abstract': \"We propose a new, multi-component energy function for energy-based Generative Adversarial Networks (GANs) based on methods from the image quality assessment literature. Our approach expands on the Boundary Equilibrium Generative Adversarial Network (BEGAN) by outlining some of the short-comings of the original energy and loss functions. We address these short-comings by incorporating an l1 score, the Gradient Magnitude Similarity score, and a chrominance score into the new energy function. We then provide a set of systematic experiments that explore its hyper-parameters. We show that each of the energy function's components is able to represent a slightly different set of features, which require their own evaluation criteria to assess whether they have been adequately learned. We show that models using the new energy function are able to produce better image representations than the BEGAN model in predicted ways.\", 'pdf': '/pdf/7e656f2b65e7c379977b425701a3c58d618758ae.pdf', 'TL;DR': 'Image Quality Assessment Techniques Improve Training and Evaluation of Energy-Based Generative Adversarial Networks', 'paperhash': 'vertolli|image_quality_assessment_techniques_improve_training_and_evaluation_of_energybased_generative_adversarial_networks', 'keywords': ['generative adversarial networks', 'gans', 'deep learning', 'image modeling', 'image generation', 'energy based models'], 'authors': ['Michael O. Vertolli', 'Jim Davies'], 'authorids': ['michaelvertolli@gmail.com', 'jim@jimdavies.org'], 'data': '[CelebA](https://paperswithcode.com/dataset/celeba)', '_bibtex': '@misc{\\no.2018image,\\ntitle={Image Quality Assessment Techniques Improve Training and Evaluation of Energy-Based Generative Adversarial Networks},\\nauthor={Michael O. Vertolli and Jim Davies},\\nyear={2018},\\nurl={https://openreview.net/forum?id=ryzm6BATZ},\\n}'}, 'forum': 'ryzm6BATZ', 'referent': None, 'invitation': 'ICLR.cc/2018/Conference/-/Blind_Submission', 'replyto': None, 'readers': ['everyone'], 'nonreaders': [], 'signatures': ['ICLR.cc/2018/Conference'], 'writers': ['ICLR.cc/2018/Conference']}\n"
     ]
    }
   ],
   "source": [
    "data = []\n",
    "\n",
    "for note in submissions:\n",
    "    n = note.to_json()        # convert Note → dict\n",
    "    c = n.get('content', {})  # the main content fields\n",
    "    print(n)\n",
    "    break\n",
    "    # Extract core info\n",
    "    data.append({\n",
    "        'title': c.get('title', ''),\n",
    "        'authors': ', '.join(c.get('authors', [])),\n",
    "        'keywords': ', '.join(c.get('keywords', [])),\n",
    "        'abstract': c.get('abstract', ''),\n",
    "        'pdf_url': f\"https://openreview.net{c.get('pdf', '')}\",\n",
    "        'forum_url': f\"https://openreview.net/forum?id={n.get('forum', '')}\",\n",
    "        'invitation': n.get('invitation', ''),\n",
    "        'signatures': ', '.join(n.get('signatures', [])),\n",
    "        'created_date': pd.to_datetime(n.get('cdate', 0), unit='ms'),\n",
    "        'last_modified': pd.to_datetime(n.get('tmdate', 0), unit='ms')\n",
    "    })\n",
    "\n",
    "# 4️⃣ Create a DataFrame\n",
    "# df = pd.DataFrame(data)\n",
    "\n",
    "# # 5️⃣ Display (cleaner formatting)\n",
    "# pd.set_option('display.max_colwidth', 120)\n",
    "# display(df.head())\n",
    "# print(f\"\\nTotal submissions: {len(df)}\")"
   ]
  }
 ],
 "metadata": {
  "kernelspec": {
   "display_name": "venv (3.13.9)",
   "language": "python",
   "name": "python3"
  },
  "language_info": {
   "codemirror_mode": {
    "name": "ipython",
    "version": 3
   },
   "file_extension": ".py",
   "mimetype": "text/x-python",
   "name": "python",
   "nbconvert_exporter": "python",
   "pygments_lexer": "ipython3",
   "version": "3.13.9"
  }
 },
 "nbformat": 4,
 "nbformat_minor": 5
}
