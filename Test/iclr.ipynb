{
 "cells": [
  {
   "cell_type": "code",
   "execution_count": 58,
   "id": "8c300d0a",
   "metadata": {},
   "outputs": [],
   "source": [
    "import pandas as pd\n",
    "import openreview\n",
    "import json\n",
    "from deepdiff import DeepDiff\n",
    "from pathlib import Path\n",
    "\n",
    "from collections import OrderedDict\n",
    "from typing import Any, Callable, Iterable, List, Dict, Optional\n",
    "import openreview.api as openreview_api"
   ]
  },
  {
   "cell_type": "code",
   "execution_count": null,
   "id": "f635a012",
   "metadata": {},
   "outputs": [],
   "source": [
    "def save_json(data,fileName,convert = True):\n",
    "    with open(f\"{fileName}.json\",\"w\") as file:\n",
    "        data_converted = data.to_json() if convert else data\n",
    "        json.dump(data_converted,file,indent=4)"
   ]
  },
  {
   "cell_type": "code",
   "execution_count": 109,
   "id": "518d4461",
   "metadata": {},
   "outputs": [],
   "source": [
    "# ai code\n",
    "def save_json(data: Any, file_name: str, convert: bool = True) -> None:\n",
    "    def convert_item(item):\n",
    "        if hasattr(item, \"to_json\"):\n",
    "            payload = dict(item.to_json())\n",
    "            if getattr(item, \"details\", None) is not None:\n",
    "                payload[\"details\"] = item.details\n",
    "            return payload\n",
    "        if isinstance(item, list):\n",
    "            return [convert_item(x) for x in item]\n",
    "        if isinstance(item, dict):\n",
    "            return {k: convert_item(v) for k, v in item.items()}\n",
    "        return item\n",
    "\n",
    "    serializable = convert_item(data) if convert else data\n",
    "    with open(f\"{file_name}.json\", \"w\") as fh:\n",
    "        json.dump(serializable, fh, indent=4)\n"
   ]
  },
  {
   "cell_type": "code",
   "execution_count": 116,
   "id": "a2d384ab",
   "metadata": {},
   "outputs": [
    {
     "name": "stdout",
     "output_type": "stream",
     "text": [
      "935\n",
      "{'revisions': True, 'invitation': {'reply': {'readers': {'description': 'The users who will be allowed to read the above content.', 'values': ['everyone']}, 'writers': {'values': ['ICLR.cc/2018/Conference']}, 'signatures': {'description': 'How your identity will be displayed with the above content.', 'values': ['ICLR.cc/2018/Conference']}, 'content': {'pdf': {'required': True, 'order': 9, 'value-regex': '.*', 'description': 'Upload a PDF file that ends with .pdf'}, 'title': {'required': True, 'order': 1, 'description': 'Title of paper.', 'value-regex': '.{1,250}'}, 'abstract': {'required': True, 'order': 8, 'description': 'Abstract of paper.', 'value-regex': '[\\\\S\\\\s]{1,5000}'}, 'authors': {'required': True, 'order': 2, 'values-regex': '[^;,\\\\n]+(,[^,\\\\n]+)*', 'description': 'Comma separated list of author names. Please provide real names; identities will be anonymized.'}, 'keywords': {'order': 6, 'values-regex': '(^$)|[^;,\\\\n]+(,[^,\\\\n]+)*', 'description': 'Comma separated list of keywords.'}, 'TL;DR': {'required': False, 'order': 7, 'description': '\"Too Long; Didn\\'t Read\": a short sentence describing your paper', 'value-regex': '[^\\n]{0,500}'}, 'authorids': {'required': True, 'order': 3, 'values-regex': '([a-z0-9_\\\\-\\\\.]{2,}@[a-z0-9_\\\\-\\\\.]{2,}\\\\.[a-z]{2,},){0,}([a-z0-9_\\\\-\\\\.]{2,}@[a-z0-9_\\\\-\\\\.]{2,}\\\\.[a-z]{2,})', 'description': \"Comma separated list of author email addresses, lowercased, in the same order as above. For authors with existing OpenReview accounts, please make sure that the provided email address(es) match those listed in the author's profile. Please provide real emails; identities will be anonymized.\"}, 'code': {'required': False, 'description': 'Optional link to data sources', 'value-regex': '.*', 'markdown': True, 'order': 100}, 'data': {'required': False, 'description': 'Optional link to data sources', 'value-regex': '.*', 'markdown': True, 'order': 101}, 'community_implementations': {'required': False, 'description': 'Optional link to open source implementations', 'value-regex': '.*', 'markdown': True}}}, 'cdate': 1506717071958, 'signatures': ['ICLR.cc/2018/Conference'], 'readers': ['everyone'], 'nonreaders': [], 'writers': ['ICLR.cc/2018/Conference'], 'invitees': ['ICLR.cc/2018/Conference'], 'noninvitees': [], 'tmdate': 1679773890668, 'id': 'ICLR.cc/2018/Conference/-/Blind_Submission', 'type': 'note'}}\n"
     ]
    }
   ],
   "source": [
    "# V1 \n",
    "# url = \"ICLR.cc/2017/conference/-/submission\"\n",
    "url = \"ICLR.cc/2018/Conference/-/Blind_Submission\"\n",
    "client = openreview.Client(baseurl='https://api.openreview.net')  # API v1\n",
    "# submissions = client.get_all_notes(invitation=url,details=\"directReplies;revisions\")\n",
    "submissions = client.get_all_notes(invitation=url,details=\"revisions\")\n",
    "print(len(submissions))\n",
    "print(submissions[0].details)\n",
    "save_json(submissions[0],\"rev2\")"
   ]
  },
  {
   "cell_type": "code",
   "execution_count": 126,
   "id": "e2c249f0",
   "metadata": {},
   "outputs": [
    {
     "ename": "OpenReviewException",
     "evalue": "{'name': 'ForbiddenError', 'message': 'User Guest does not have permission to see Note rJT0QeZ0-', 'status': 403, 'details': {'user': 'guest_1761515559664', 'reqId': '2025-10-26-6805830'}}",
     "output_type": "error",
     "traceback": [
      "\u001b[31m---------------------------------------------------------------------------\u001b[39m",
      "\u001b[31mHTTPError\u001b[39m                                 Traceback (most recent call last)",
      "\u001b[36mFile \u001b[39m\u001b[32m~/Desktop/Lab/paper-review-collector/venv/lib/python3.13/site-packages/openreview/openreview.py:129\u001b[39m, in \u001b[36mClient.__handle_response\u001b[39m\u001b[34m(self, response)\u001b[39m\n\u001b[32m    128\u001b[39m \u001b[38;5;28;01mtry\u001b[39;00m:\n\u001b[32m--> \u001b[39m\u001b[32m129\u001b[39m     \u001b[43mresponse\u001b[49m\u001b[43m.\u001b[49m\u001b[43mraise_for_status\u001b[49m\u001b[43m(\u001b[49m\u001b[43m)\u001b[49m\n\u001b[32m    130\u001b[39m     \u001b[38;5;28;01mreturn\u001b[39;00m response\n",
      "\u001b[36mFile \u001b[39m\u001b[32m~/Desktop/Lab/paper-review-collector/venv/lib/python3.13/site-packages/requests/models.py:1026\u001b[39m, in \u001b[36mResponse.raise_for_status\u001b[39m\u001b[34m(self)\u001b[39m\n\u001b[32m   1025\u001b[39m \u001b[38;5;28;01mif\u001b[39;00m http_error_msg:\n\u001b[32m-> \u001b[39m\u001b[32m1026\u001b[39m     \u001b[38;5;28;01mraise\u001b[39;00m HTTPError(http_error_msg, response=\u001b[38;5;28mself\u001b[39m)\n",
      "\u001b[31mHTTPError\u001b[39m: 403 Client Error: Forbidden for url: https://api.openreview.net/notes?id=rJT0QeZ0-&limit=1000&details=revisions%2Cinvitation&sort=id",
      "\nDuring handling of the above exception, another exception occurred:\n",
      "\u001b[31mOpenReviewException\u001b[39m                       Traceback (most recent call last)",
      "\u001b[36mCell\u001b[39m\u001b[36m \u001b[39m\u001b[32mIn[126]\u001b[39m\u001b[32m, line 1\u001b[39m\n\u001b[32m----> \u001b[39m\u001b[32m1\u001b[39m note = \u001b[43mclient\u001b[49m\u001b[43m.\u001b[49m\u001b[43mget_all_notes\u001b[49m\u001b[43m(\u001b[49m\u001b[38;5;28;43mid\u001b[39;49m\u001b[43m=\u001b[49m\u001b[33;43m'\u001b[39;49m\u001b[33;43mrJT0QeZ0-\u001b[39;49m\u001b[33;43m'\u001b[39;49m\u001b[43m,\u001b[49m\u001b[43m \u001b[49m\u001b[43mdetails\u001b[49m\u001b[43m=\u001b[49m\u001b[33;43m'\u001b[39;49m\u001b[33;43mrevisions,invitation\u001b[39;49m\u001b[33;43m'\u001b[39;49m\u001b[43m)\u001b[49m\n\u001b[32m      2\u001b[39m save_json(note,\u001b[33m\"\u001b[39m\u001b[33mnote\u001b[39m\u001b[33m\"\u001b[39m)\n",
      "\u001b[36mFile \u001b[39m\u001b[32m~/Desktop/Lab/paper-review-collector/venv/lib/python3.13/site-packages/openreview/openreview.py:1222\u001b[39m, in \u001b[36mClient.get_all_notes\u001b[39m\u001b[34m(self, id, paperhash, forum, original, invitation, replyto, tauthor, signature, signatures, writer, trash, number, content, mintcdate, details, sort, select, with_count)\u001b[39m\n\u001b[32m   1219\u001b[39m \u001b[38;5;28;01mif\u001b[39;00m with_count:\n\u001b[32m   1220\u001b[39m     params[\u001b[33m'\u001b[39m\u001b[33mwith_count\u001b[39m\u001b[33m'\u001b[39m] = with_count\n\u001b[32m-> \u001b[39m\u001b[32m1222\u001b[39m \u001b[38;5;28;01mreturn\u001b[39;00m \u001b[38;5;28mlist\u001b[39m(\u001b[43mtools\u001b[49m\u001b[43m.\u001b[49m\u001b[43mefficient_iterget\u001b[49m\u001b[43m(\u001b[49m\u001b[38;5;28;43mself\u001b[39;49m\u001b[43m.\u001b[49m\u001b[43mget_notes\u001b[49m\u001b[43m,\u001b[49m\u001b[43m \u001b[49m\u001b[43mdesc\u001b[49m\u001b[43m=\u001b[49m\u001b[33;43m'\u001b[39;49m\u001b[33;43mGetting V1 Notes\u001b[39;49m\u001b[33;43m'\u001b[39;49m\u001b[43m,\u001b[49m\u001b[43m \u001b[49m\u001b[43m*\u001b[49m\u001b[43m*\u001b[49m\u001b[43mparams\u001b[49m\u001b[43m)\u001b[49m)\n",
      "\u001b[36mFile \u001b[39m\u001b[32m~/Desktop/Lab/paper-review-collector/venv/lib/python3.13/site-packages/openreview/tools.py:848\u001b[39m, in \u001b[36mefficient_iterget.__init__\u001b[39m\u001b[34m(self, get_function, desc, **params)\u001b[39m\n\u001b[32m    841\u001b[39m \u001b[38;5;28mself\u001b[39m.params.update({\n\u001b[32m    842\u001b[39m     \u001b[33m'\u001b[39m\u001b[33mwith_count\u001b[39m\u001b[33m'\u001b[39m: \u001b[38;5;28;01mTrue\u001b[39;00m,\n\u001b[32m    843\u001b[39m     \u001b[33m'\u001b[39m\u001b[33msort\u001b[39m\u001b[33m'\u001b[39m: params.get(\u001b[33m'\u001b[39m\u001b[33msort\u001b[39m\u001b[33m'\u001b[39m) \u001b[38;5;129;01mor\u001b[39;00m \u001b[33m'\u001b[39m\u001b[33mid\u001b[39m\u001b[33m'\u001b[39m,\n\u001b[32m    844\u001b[39m     \u001b[33m'\u001b[39m\u001b[33mlimit\u001b[39m\u001b[33m'\u001b[39m: params.get(\u001b[33m'\u001b[39m\u001b[33mlimit\u001b[39m\u001b[33m'\u001b[39m) \u001b[38;5;129;01mor\u001b[39;00m \u001b[32m1000\u001b[39m\n\u001b[32m    845\u001b[39m })\n\u001b[32m    847\u001b[39m \u001b[38;5;28mself\u001b[39m.get_function = get_function\n\u001b[32m--> \u001b[39m\u001b[32m848\u001b[39m \u001b[38;5;28mself\u001b[39m.current_batch, total = \u001b[38;5;28;43mself\u001b[39;49m\u001b[43m.\u001b[49m\u001b[43mget_function\u001b[49m\u001b[43m(\u001b[49m\u001b[43m*\u001b[49m\u001b[43m*\u001b[49m\u001b[38;5;28;43mself\u001b[39;49m\u001b[43m.\u001b[49m\u001b[43mparams\u001b[49m\u001b[43m)\u001b[49m\n\u001b[32m    850\u001b[39m \u001b[38;5;28mself\u001b[39m.gathering_responses = tqdm(total=total, desc=desc) \u001b[38;5;28;01mif\u001b[39;00m total > \u001b[38;5;28mself\u001b[39m.params[\u001b[33m'\u001b[39m\u001b[33mlimit\u001b[39m\u001b[33m'\u001b[39m] \u001b[38;5;28;01melse\u001b[39;00m \u001b[38;5;28;01mNone\u001b[39;00m\n",
      "\u001b[36mFile \u001b[39m\u001b[32m~/Desktop/Lab/paper-review-collector/venv/lib/python3.13/site-packages/openreview/openreview.py:1104\u001b[39m, in \u001b[36mClient.get_notes\u001b[39m\u001b[34m(self, id, paperhash, forum, original, invitation, replyto, tauthor, signature, signatures, writer, trash, number, content, limit, offset, after, mintcdate, details, sort, with_count, select)\u001b[39m\n\u001b[32m   1101\u001b[39m params[\u001b[33m'\u001b[39m\u001b[33moriginal\u001b[39m\u001b[33m'\u001b[39m] = original\n\u001b[32m   1103\u001b[39m response = \u001b[38;5;28mself\u001b[39m.session.get(\u001b[38;5;28mself\u001b[39m.notes_url, params=tools.format_params(params), headers=\u001b[38;5;28mself\u001b[39m.headers)\n\u001b[32m-> \u001b[39m\u001b[32m1104\u001b[39m response = \u001b[38;5;28;43mself\u001b[39;49m\u001b[43m.\u001b[49m\u001b[43m__handle_response\u001b[49m\u001b[43m(\u001b[49m\u001b[43mresponse\u001b[49m\u001b[43m)\u001b[49m\n\u001b[32m   1106\u001b[39m notes = [Note.from_json(n) \u001b[38;5;28;01mfor\u001b[39;00m n \u001b[38;5;129;01min\u001b[39;00m response.json()[\u001b[33m'\u001b[39m\u001b[33mnotes\u001b[39m\u001b[33m'\u001b[39m]]\n\u001b[32m   1108\u001b[39m \u001b[38;5;28;01mif\u001b[39;00m with_count \u001b[38;5;129;01mand\u001b[39;00m params.get(\u001b[33m'\u001b[39m\u001b[33moffset\u001b[39m\u001b[33m'\u001b[39m) \u001b[38;5;129;01mis\u001b[39;00m \u001b[38;5;28;01mNone\u001b[39;00m:\n",
      "\u001b[36mFile \u001b[39m\u001b[32m~/Desktop/Lab/paper-review-collector/venv/lib/python3.13/site-packages/openreview/openreview.py:144\u001b[39m, in \u001b[36mClient.__handle_response\u001b[39m\u001b[34m(self, response)\u001b[39m\n\u001b[32m    139\u001b[39m \u001b[38;5;28;01melse\u001b[39;00m:\n\u001b[32m    140\u001b[39m     error = {\n\u001b[32m    141\u001b[39m         \u001b[33m'\u001b[39m\u001b[33mname\u001b[39m\u001b[33m'\u001b[39m: \u001b[33m'\u001b[39m\u001b[33mError\u001b[39m\u001b[33m'\u001b[39m,\n\u001b[32m    142\u001b[39m         \u001b[33m'\u001b[39m\u001b[33mmessage\u001b[39m\u001b[33m'\u001b[39m: response.reason\n\u001b[32m    143\u001b[39m     }\n\u001b[32m--> \u001b[39m\u001b[32m144\u001b[39m \u001b[38;5;28;01mraise\u001b[39;00m OpenReviewException(error)\n",
      "\u001b[31mOpenReviewException\u001b[39m: {'name': 'ForbiddenError', 'message': 'User Guest does not have permission to see Note rJT0QeZ0-', 'status': 403, 'details': {'user': 'guest_1761515559664', 'reqId': '2025-10-26-6805830'}}"
     ]
    }
   ],
   "source": [
    "note = client.get_all_notes(id='rJT0QeZ0-', details='revisions,invitation')\n",
    "save_json(note,\"note\")"
   ]
  },
  {
   "cell_type": "code",
   "execution_count": 105,
   "id": "c19a4a6a",
   "metadata": {},
   "outputs": [
    {
     "name": "stdout",
     "output_type": "stream",
     "text": [
      "490\n"
     ]
    }
   ],
   "source": [
    "# V2\n",
    "url = \"ICLR.cc/2017/conference/-/submission\"\n",
    "# url = \"ICLR.cc/2016/workshop/-/submission\"\n",
    "v2 = openreview_api.OpenReviewClient(baseurl=\"https://api2.openreview.net\")\n",
    "sub2 = client.get_all_notes(invitation=url)\n",
    "print(len(sub2))"
   ]
  },
  {
   "cell_type": "code",
   "execution_count": 108,
   "id": "fa1c61b8",
   "metadata": {},
   "outputs": [
    {
     "ename": "TypeError",
     "evalue": "OpenReviewClient.get_all_invitations() got an unexpected keyword argument 'limit'",
     "output_type": "error",
     "traceback": [
      "\u001b[31m---------------------------------------------------------------------------\u001b[39m",
      "\u001b[31mTypeError\u001b[39m                                 Traceback (most recent call last)",
      "\u001b[36mCell\u001b[39m\u001b[36m \u001b[39m\u001b[32mIn[108]\u001b[39m\u001b[32m, line 2\u001b[39m\n\u001b[32m      1\u001b[39m client = openreview_api.OpenReviewClient(baseurl=\u001b[33m\"\u001b[39m\u001b[33mhttps://api2.openreview.net\u001b[39m\u001b[33m\"\u001b[39m)\n\u001b[32m----> \u001b[39m\u001b[32m2\u001b[39m invs = \u001b[43mclient\u001b[49m\u001b[43m.\u001b[49m\u001b[43mget_all_invitations\u001b[49m\u001b[43m(\u001b[49m\u001b[43mprefix\u001b[49m\u001b[43m=\u001b[49m\u001b[33;43m\"\u001b[39;49m\u001b[33;43mICLR.cc/2016/workshop\u001b[39;49m\u001b[33;43m\"\u001b[39;49m\u001b[43m,\u001b[49m\u001b[43mlimit\u001b[49m\u001b[43m=\u001b[49m\u001b[32;43m1\u001b[39;49m\u001b[43m)\u001b[49m\n\u001b[32m      3\u001b[39m \u001b[38;5;66;03m# blind = client.get_all_invitations(super=\"ICLR.cc/2023/Conference\",regex=\".*Blind_Submission\")\u001b[39;00m\n\u001b[32m      5\u001b[39m \u001b[38;5;28mlen\u001b[39m(invs)\n",
      "\u001b[31mTypeError\u001b[39m: OpenReviewClient.get_all_invitations() got an unexpected keyword argument 'limit'"
     ]
    }
   ],
   "source": [
    "client = openreview_api.OpenReviewClient(baseurl=\"https://api2.openreview.net\")\n",
    "invs = client.get_all_invitations(prefix=\"ICLR.cc/2016/workshop\",limit=1)\n",
    "# blind = client.get_all_invitations(super=\"ICLR.cc/2023/Conference\",regex=\".*Blind_Submission\")\n",
    "\n",
    "len(invs)\n"
   ]
  },
  {
   "cell_type": "code",
   "execution_count": 37,
   "id": "461d82dc",
   "metadata": {},
   "outputs": [
    {
     "name": "stdout",
     "output_type": "stream",
     "text": [
      "Everythin matches\n"
     ]
    }
   ],
   "source": [
    "for s1, s2 in zip(submissions,sub2):\n",
    "    s1 = s1.to_json()\n",
    "    s2 = s2.to_json()\n",
    "\n",
    "    if s1 != s2:\n",
    "        print(\"Wrong\")\n",
    "        break\n",
    "print(\"Everythin matches\")"
   ]
  },
  {
   "cell_type": "code",
   "execution_count": 56,
   "id": "a2aa2f48",
   "metadata": {},
   "outputs": [
    {
     "name": "stdout",
     "output_type": "stream",
     "text": [
      "<class 'str'>\n"
     ]
    }
   ],
   "source": [
    "s1 = str(submissions[0])\n",
    "s1 = (submissions[0]).to_json()\n",
    "\n",
    "# s1 = (submissions[0])\n",
    "print(type(s1))\n",
    "with open(\"test.json\",\"w\") as f:\n",
    "    f.write(s1)\n",
    "    # json.dump(s1.to_json(),f)"
   ]
  },
  {
   "cell_type": "code",
   "execution_count": 62,
   "id": "a084f8e4",
   "metadata": {},
   "outputs": [
    {
     "data": {
      "text/plain": [
       "176112"
      ]
     },
     "execution_count": 62,
     "metadata": {},
     "output_type": "execute_result"
    }
   ],
   "source": [
    "s1 = str((submissions[0]))\n",
    "Path(\"note.json\").write_text(s1, encoding=\"utf-8\")"
   ]
  },
  {
   "cell_type": "code",
   "execution_count": null,
   "id": "bb9dc083",
   "metadata": {},
   "outputs": [],
   "source": []
  },
  {
   "cell_type": "code",
   "execution_count": 66,
   "id": "2350af06",
   "metadata": {},
   "outputs": [],
   "source": [
    "save_json(submissions[70], \"newww\")"
   ]
  },
  {
   "cell_type": "code",
   "execution_count": 43,
   "id": "db0d0d1d",
   "metadata": {},
   "outputs": [
    {
     "name": "stdout",
     "output_type": "stream",
     "text": [
      "{'directReplies': [{'id': 'MXV1TACjo_', 'original': None, 'number': 1, 'cdate': 1666251648361, 'mdate': None, 'ddate': None, 'tcdate': 1666251648361, 'tmdate': 1669196188530, 'tddate': None, 'forum': 'zzqBoIFOQ1', 'replyto': 'zzqBoIFOQ1', 'invitation': 'ICLR.cc/2023/Conference/Paper3283/-/Official_Review', 'content': {'confidence': '4: You are confident in your assessment, but not absolutely certain. It is unlikely, but not impossible, that you did not understand some parts of the submission or that you are unfamiliar with some pieces of related work.', 'summary_of_the_paper': 'This paper deals with safe exploration in reinforcement learning in which an agent is required to ensure safety during training. The authors present a neuro-symbolic approach called SPICE. based on symbolic weakest preconditions. Empirically, they evaluate their approach on toy benchmarks, and show that it is able to achieve comparable performance to existing safe learning techniques while incurring fewer safety violations. ', 'strength_and_weaknesses': \"### Strength\\n- Interesting and importance problem formulation on safe exploration.\\n- Unique approach for safe exploration. As far as I know, there is no existing method using weakest precondition.\\n\\n### Weakness\\n- Though the number and quality of baselines looks sufficient to me, benchmark problem is very easy. I think the authors should have tested their method in MuJoCo or SafetyGym benchmarks. The proposed method depends on environment approximation; hence, it is particularly important to know whether it is applicable to non-linear complicated system (I think even negative results are ok, and it is significant to know the limitations).\\n- Low applicability to real problems. As the authors discuss the experimental results in the first paragraph on page 8, the proposed method works better than baselines when the environment can be approximated with linear equations. I think this is a huge limitation of the proposed method. I personally recommend the authors to connect this work with Linear MDP (https://arxiv.org/pdf/1907.05388.pdf), which would provide much richer theoretical results and good empirical results under the assumption of feature mapping functions.\\n\\n### Questions\\n- How did the author choose weakest preconditions for each experiments? Is it possible to decrease the constraints violation while tuning the parameter of the weakest preconditions?\\n\\n### Other comments\\n- The equation in Section 2 should be rewritten\\n    - (Section 2) $\\\\text{Safe}(\\\\pi)$ is not defined.\\n    - Is $P_{x∼S{_{\\\\pi_i}}}(x \\\\in S_U ) < \\\\delta$ really what the authors want to represent? I think the probability of an agent's trajectory being safe is $(1-\\\\delta)^N$ when the length of episode is $N$. I guess the authors should have represented in other equations.\", 'clarity,_quality,_novelty_and_reproducibility': '### Clarity\\nThis paper is mostly well-written and easy to follow.\\n\\n### Quality\\nI have several concerns regarding the quality of experiments and method itself. Especially, I am not fully convinced whether this proposed method is really useful or not.\\n\\n### Novelty\\nAs far as I know, the proposed approach using weakest precondition is new.\\n\\n### Reproducibility\\nThe source-doe is attached, and reproducibility is high.', 'summary_of_the_review': 'Though this paper presents a new, promising method for an interesting problems, there are several issues and concerns about the applicability and empirical evaluations. Hence, I recommend rejection for now.', 'correctness': '2: Several of the paper’s claims are incorrect or not well-supported.', 'technical_novelty_and_significance': '3: The contributions are significant and somewhat new. Aspects of the contributions exist in prior work.', 'empirical_novelty_and_significance': '2: The contributions are only marginally significant or novel.', 'flag_for_ethics_review': ['NO.'], 'recommendation': '6: marginally above the acceptance threshold'}, 'signatures': ['ICLR.cc/2023/Conference/Paper3283/Reviewer_aN3N'], 'readers': ['everyone'], 'nonreaders': [], 'writers': ['ICLR.cc/2023/Conference', 'ICLR.cc/2023/Conference/Paper3283/Reviewer_aN3N']}, {'id': 'AQTBBXOc898', 'original': None, 'number': 2, 'cdate': 1666651351449, 'mdate': None, 'ddate': None, 'tcdate': 1666651351449, 'tmdate': 1666651351449, 'tddate': None, 'forum': 'zzqBoIFOQ1', 'replyto': 'zzqBoIFOQ1', 'invitation': 'ICLR.cc/2023/Conference/Paper3283/-/Official_Review', 'content': {'confidence': '3: You are fairly confident in your assessment. It is possible that you did not understand some parts of the submission or that you are unfamiliar with some pieces of related work. Math/other details were not carefully checked.', 'summary_of_the_paper': 'This paper adapts ideas from formal program analysis, i.e. weakest preconditions, to the constrained  reinforcement learning. Here an emphasis is made for (i) working in an a-priori unknown MDP and (ii) minimizing constraint violations during deployment *and* training. \\n\\nThe key idea is to alternate (i) shielded exploration (ii) system identification/ model learning and (iii) computing a new avoid predicate for the shield. Again, this is done by adapting a classic idea from program analysis (called weakest preconditions) where one tries to identify the largest set such of inputs (the precondition) that guarantees the property (here not violating the constraint) is satisfied.\\n\\nTechnically, this by linearizing the learned model and learning a (union) of precondition polyhedra. These polyhedra are then used to project the actions proposed by the learned control policy to a safe action (according the learned model).\\n\\nEmpirically this seems to be very effective and future extensions are proposed (using non-linear models) that would likely yield unambigously state-of-the-art performance.', 'strength_and_weaknesses': '# Strengths\\n\\nThe technique is well motivated and a good proof of concept regarding combining model based safety analysis with model free RL. There is a clear path towards having robust theoretical guarantees (see weaknesses below) and a there is a literature of techniques on abstract interpretation that are likely to improve the representations of the preconditions.\\n\\n# Weaknesses\\n\\n1. Some of the assumptions in the theorems seems difficult to realize. In particular, because the learned safety shield biases the exploration, it seems difficult to assert that the final model will always achieve a given PAC bound. Perhaps I am missing something.\\n\\n2. The analysis is done using a linearization of the model. This limits the class of models for which the shield can accurately forecast safety. This is acknowledged in the paper and the proposed directions for mitigation seem reasonable.\\n\\n3. Missing from the related work seems to the literature on abstract interpretation that (from my outsider knowledge) offers a similar promise of learning pre-conditions for safety. Since the preconditions considered in this work are (under?) approximations for the learned model, it seems good to compare.', 'clarity,_quality,_novelty_and_reproducibility': 'The technique and motivation are clearly communicated and the algorithm is (to my knowledge) distinct from other shielding techniques. While the individual building blocks are well established, this seems to be a novel application well worth studying.', 'summary_of_the_review': 'The paper contributes a novel algorithm for creating safety shields during the training of RL-agents. It provides a nice demonstration of the power of alternating model learning and state-of-the-art RL techniques for safe RL. In particular, the paper highlights how model learning in this setting need only deal with qualitative semantics (i.e., is it possible to reach state s) and can let the RL algorithm handle the quantitative optimizations.', 'correctness': '4: All of the claims and statements are well-supported and correct.', 'technical_novelty_and_significance': '3: The contributions are significant and somewhat new. Aspects of the contributions exist in prior work.', 'empirical_novelty_and_significance': '3: The contributions are significant and somewhat new. Aspects of the contributions exist in prior work.', 'flag_for_ethics_review': ['NO.'], 'recommendation': '8: accept, good paper'}, 'signatures': ['ICLR.cc/2023/Conference/Paper3283/Reviewer_PYp3'], 'readers': ['everyone'], 'nonreaders': [], 'writers': ['ICLR.cc/2023/Conference', 'ICLR.cc/2023/Conference/Paper3283/Reviewer_PYp3']}, {'id': 'aib0K4Qbbj', 'original': None, 'number': 3, 'cdate': 1666735486524, 'mdate': None, 'ddate': None, 'tcdate': 1666735486524, 'tmdate': 1666735486524, 'tddate': None, 'forum': 'zzqBoIFOQ1', 'replyto': 'zzqBoIFOQ1', 'invitation': 'ICLR.cc/2023/Conference/Paper3283/-/Official_Review', 'content': {'confidence': '3: You are fairly confident in your assessment. It is possible that you did not understand some parts of the submission or that you are unfamiliar with some pieces of related work. Math/other details were not carefully checked.', 'summary_of_the_paper': 'The paper proposes a method for safe reinforcement learning whereby it uses a\\nlearnt environment to not only optimise policies but also to improve safe\\nexploration. Concretely, this is realised by taking a linear approximation of\\nthe environment, which in conjunction with the safety specification gives\\nlinear constraints (called weakest preconditions in the paper) on the actions\\nthat are safe to be performed.', 'strength_and_weaknesses': '+ The approach reduces the number of safety violations during training when\\ncompared with the state-of-the-art in the area.\\n\\n- Somewhat straightforward and incremental: straightforward in that it relies\\n  on linear approximations of the environment and incremental in that the\\n  contribution is limited to the derivation of safety predicates within a\\n  previously studied framework.', 'clarity,_quality,_novelty_and_reproducibility': 'The paper is overall well written and presented. The contribution includes some\\nnovel aspects pertaining to the computation of the weakest preconditions. The\\nsignificance of the overall method is adequately evaluated.', 'summary_of_the_review': 'The paper builds on previous work on safe reinforcement learning  to derive a\\nmethod which although makes strong, linearity assumptions on the environment is\\nable to outperform the state-of-the-art in terms of the number of safety\\nviolations during training.', 'correctness': '4: All of the claims and statements are well-supported and correct.', 'technical_novelty_and_significance': '3: The contributions are significant and somewhat new. Aspects of the contributions exist in prior work.', 'empirical_novelty_and_significance': '2: The contributions are only marginally significant or novel.', 'flag_for_ethics_review': ['NO.'], 'recommendation': '6: marginally above the acceptance threshold'}, 'signatures': ['ICLR.cc/2023/Conference/Paper3283/Reviewer_HV3z'], 'readers': ['everyone'], 'nonreaders': [], 'writers': ['ICLR.cc/2023/Conference', 'ICLR.cc/2023/Conference/Paper3283/Reviewer_HV3z']}, {'id': 'd3-kXa-Agu', 'original': None, 'number': 4, 'cdate': 1667459319188, 'mdate': None, 'ddate': None, 'tcdate': 1667459319188, 'tmdate': 1670985996556, 'tddate': None, 'forum': 'zzqBoIFOQ1', 'replyto': 'zzqBoIFOQ1', 'invitation': 'ICLR.cc/2023/Conference/Paper3283/-/Official_Review', 'content': {'confidence': '4: You are confident in your assessment, but not absolutely certain. It is unlikely, but not impossible, that you did not understand some parts of the submission or that you are unfamiliar with some pieces of related work.', 'summary_of_the_paper': 'The paper proposes a safe RL algorithm, Symbolic Preconditions for Constrained Exploration (SPICE), that uses a model-based shielding mechanism to produce safe actions. A linearization of the model and polyhedral state constraints are used to determine which actions are safe, and then the proposed action is projected onto the space of safe actions. The paper provides a regret bound for the algorithm and demonstrates that SPICE can attain fewer safety violations during training than model-free baselines.', 'strength_and_weaknesses': 'Strengths:\\n* SPICE’s use of formal methods provides strong safety guarantees if the assumptions hold. This is very desirable in safety critical applications.\\n* In experiments, SPICE substantially reduces the number of violations substantially compared to CPO and CSC.\\n\\nWeaknesses:\\n* A footnote states \"We use a modified version of our approach instead of comparing to Bharadhwaj et al. (2021) directly because the code for that paper is unavailable.\" While this is reasonable, the present paper does not provide a description of your modifications. It is difficult for the reader to compare the performance of SPICE vs. “CSC” without knowing exactly what “CSC” means.\\n* From Figure 3, the variance of the policy’s performance appears extremely high for both SPICE and CSC. The plots in the CSC paper look much less noisy. This raises questions about the quality of the implementation.\\n* SPICE converges to a suboptimal policy (worse than CPO) in many cases.\\n* The experiments do not compare to any other model-based safe RL algorithms.\\n* Linearization of the model may limit what types of problems SPICE can solve effectively.', 'clarity,_quality,_novelty_and_reproducibility': 'The paper is generally clear. I appreciate the use of examples to demonstrate the approach.\\nHowever, the statement of theorem 2 should be improved:\\n* Some of the symbols that appear in the regret bound are only defined in the appendix ($L_R$, $\\\\sigma$) or in the following text ($\\\\zeta$).\\n* To be precise, $\\\\epsilon_m$ and $\\\\epsilon_\\\\pi$ are upper bounds on the divergences that hold for all $T$. (This is stated in the appendix, but not in the main text.) The actual divergences are changing throughout training as the model and policy are updated.\\n\\nThe proposed approach is novel, to my knowledge.\\n\\nRegarding reproducibility, the lack of details regarding the CSC implementation is a significant concern.\\n\\nThe paper is missing some relevant references to model-based safe RL papers, such as\\n* Safe Reinforcement Learning Using Robust MPC. M. Zanon, S. Gros\\n* Safe Reinforcement Learning by Imagining the Near Future. G. Thomas, Y. Luo, T. Ma\\n', 'summary_of_the_review': 'I like the proposed approach and its associated guarantees. My main issues are in the experiments, as detailed above. The state of the experiments makes it hard to recommend acceptance in the paper’s current form, in spite of other positive attributes of the paper.', 'correctness': '4: All of the claims and statements are well-supported and correct.', 'technical_novelty_and_significance': '3: The contributions are significant and somewhat new. Aspects of the contributions exist in prior work.', 'empirical_novelty_and_significance': '2: The contributions are only marginally significant or novel.', 'flag_for_ethics_review': ['NO.'], 'recommendation': '6: marginally above the acceptance threshold'}, 'signatures': ['ICLR.cc/2023/Conference/Paper3283/Reviewer_euEh'], 'readers': ['everyone'], 'nonreaders': [], 'writers': ['ICLR.cc/2023/Conference', 'ICLR.cc/2023/Conference/Paper3283/Reviewer_euEh']}, {'id': 'uj_ZPbmWO-', 'original': None, 'number': 1, 'cdate': 1674241783547, 'pdate': None, 'mdate': None, 'ddate': None, 'tcdate': 1674241783547, 'tmdate': 1675383061888, 'tddate': None, 'forum': 'zzqBoIFOQ1', 'replyto': 'zzqBoIFOQ1', 'invitation': 'ICLR.cc/2023/Conference/Paper3283/-/Decision', 'content': {'title': 'Paper Decision', 'decision': 'Accept: poster', 'metareview:_summary,_strengths_and_weaknesses': 'This paper provides a novel and potentially important strategy for using the technique of weakest preconditions, from the CS verification literature, to constrain exploration during reinforcement learning, and provide safety guarantees.\\nBy making an analytical model of the preconditions of a function, it is possible to efficiently, analytically chain the conditions to compute an h-step precondition of a safety condition.  This is used as a \"shield\" during exploration.\\n\\nThe reviewers were generally positive about the ideas in the paper but had some substantial concerns.  The major concerns were:\\n- Weaknesses in experimental methodology:  \\n  o the apparent variance in the training curves for SPICE and CSC seems huge (both in main results and in appendix):  this requires some exploration and explanation\\n  o it might have been good, to compare your replication of CSC against their published results as a sanity check\\n  o it would have been good to try some harder RL problems\\n- It would have been good to make some of the assumptions of the theorems clearer in the main body of the paper.\\n  o the assumption of approximate correctness of the learned model is very strong\\n  o there is a general concern that the linear approximation may not model the system well enough\\n\\nThe discussion in the appendix about the effect of changing the horizon was interesting.  Would be nice to put some discussion of that in main paper if possible. After rebuttal, authors have addressed most of the concerns, so we recommend to accept.', 'summary_of_AC-reviewer_meeting': 'Reviewers with more expertise in the verification community found the methods to be relatively straightforward and incremental. Reviewers with more expertise in the RL community were concerned about experimental results (high variance, simple domains), but rebuttal has addressed many of them. There was agreement that the approach was interesting.', 'justification_for_why_not_higher_score': 'There were substantial concerns from all reviewers.', 'justification_for_why_not_lower_score': 'N/A'}, 'signatures': ['ICLR.cc/2023/Conference/Program_Chairs'], 'readers': ['everyone'], 'nonreaders': [], 'writers': ['ICLR.cc/2023/Conference/Program_Chairs']}]}\n"
     ]
    }
   ],
   "source": [
    "save_json(submissions[0],\"v1_p0dddd\")\n",
    "# save_json(sub2[0],\"v2_p0\")\n",
    "print(submissions[0].details)"
   ]
  }
 ],
 "metadata": {
  "kernelspec": {
   "display_name": "venv (3.13.9)",
   "language": "python",
   "name": "python3"
  },
  "language_info": {
   "codemirror_mode": {
    "name": "ipython",
    "version": 3
   },
   "file_extension": ".py",
   "mimetype": "text/x-python",
   "name": "python",
   "nbconvert_exporter": "python",
   "pygments_lexer": "ipython3",
   "version": "3.13.9"
  }
 },
 "nbformat": 4,
 "nbformat_minor": 5
}
